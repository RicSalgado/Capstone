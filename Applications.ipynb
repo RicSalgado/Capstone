{
 "cells": [
  {
   "cell_type": "markdown",
   "metadata": {},
   "source": [
    "# Packages"
   ]
  },
  {
   "cell_type": "code",
   "execution_count": 1,
   "metadata": {},
   "outputs": [],
   "source": [
    "import joblib\n",
    "import numpy as np\n",
    "import cv2"
   ]
  },
  {
   "cell_type": "code",
   "execution_count": 2,
   "metadata": {},
   "outputs": [],
   "source": [
    "class_names = ['T-shirt/top', 'Trouser', 'Pullover', 'Dress', 'Coat',\n",
    "               'Sandal', 'Shirt', 'Sneaker', 'Bag', 'Ankle boot']"
   ]
  },
  {
   "cell_type": "markdown",
   "metadata": {},
   "source": [
    "# Models"
   ]
  },
  {
   "cell_type": "markdown",
   "metadata": {},
   "source": [
    "## Logistic Regression"
   ]
  },
  {
   "cell_type": "code",
   "execution_count": 3,
   "metadata": {},
   "outputs": [],
   "source": [
    "LR_model = joblib.load('Final_LR.sav')"
   ]
  },
  {
   "cell_type": "markdown",
   "metadata": {},
   "source": [
    "## K-NN"
   ]
  },
  {
   "cell_type": "code",
   "execution_count": 4,
   "metadata": {},
   "outputs": [],
   "source": [
    "KNN_model = joblib.load('Final_KNN.sav')"
   ]
  },
  {
   "cell_type": "markdown",
   "metadata": {},
   "source": [
    "## Decision Tree "
   ]
  },
  {
   "cell_type": "code",
   "execution_count": 5,
   "metadata": {},
   "outputs": [],
   "source": [
    "DT_model = joblib.load('Final_DT.sav')"
   ]
  },
  {
   "cell_type": "markdown",
   "metadata": {},
   "source": [
    "## Random Forest"
   ]
  },
  {
   "cell_type": "code",
   "execution_count": 6,
   "metadata": {},
   "outputs": [],
   "source": [
    "RF_model = joblib.load('Final_RF.sav')"
   ]
  },
  {
   "cell_type": "markdown",
   "metadata": {},
   "source": [
    "## Support Vector Machine"
   ]
  },
  {
   "cell_type": "code",
   "execution_count": 7,
   "metadata": {},
   "outputs": [],
   "source": [
    "SVM_model = joblib.load('Final_SVM.sav')"
   ]
  },
  {
   "cell_type": "markdown",
   "metadata": {},
   "source": [
    "## Convolutional Neural Network"
   ]
  },
  {
   "cell_type": "code",
   "execution_count": 8,
   "metadata": {},
   "outputs": [],
   "source": [
    "from tensorflow import keras"
   ]
  },
  {
   "cell_type": "code",
   "execution_count": 9,
   "metadata": {},
   "outputs": [],
   "source": [
    "CNN_model = keras.models.load_model(\"Final_CNN\")"
   ]
  },
  {
   "cell_type": "markdown",
   "metadata": {},
   "source": [
    "# Link to Anvil"
   ]
  },
  {
   "cell_type": "code",
   "execution_count": 10,
   "metadata": {},
   "outputs": [],
   "source": [
    "import anvil.server"
   ]
  },
  {
   "cell_type": "code",
   "execution_count": 11,
   "metadata": {},
   "outputs": [
    {
     "name": "stdout",
     "output_type": "stream",
     "text": [
      "Connecting to wss://anvil.works/uplink\n",
      "Anvil websocket open\n",
      "Connected to \"Default environment (dev)\" as SERVER\n"
     ]
    }
   ],
   "source": [
    "anvil.server.connect(\"XGQI7FMJW5KJNSROQGA2753W-5PEBKUMF4AWCA73Q\")"
   ]
  },
  {
   "cell_type": "code",
   "execution_count": 12,
   "metadata": {},
   "outputs": [],
   "source": [
    "import anvil.media\n",
    "\n",
    "@anvil.server.callable\n",
    "def classify_image(file):\n",
    "    with anvil.media.TempFile(file) as filename:\n",
    "        img = cv2.imread(filename, cv2.IMREAD_GRAYSCALE)\n",
    "    \n",
    "    #img = cv2.imread(file, cv2.IMREAD_GRAYSCALE)\n",
    "        \n",
    "    dim = (28, 28)\n",
    "    # resize image\n",
    "    img = cv2.resize(img, dim, interpolation = cv2.INTER_AREA)\n",
    "    img = cv2.bitwise_not(img)\n",
    "    img = img / 255\n",
    "    test_arr_cnn = img.reshape(1, 28, 28, 1)\n",
    "    test_arr = np.reshape(img,(1,784))\n",
    "    \n",
    "    score_LR = LR_model.predict(test_arr)\n",
    "    score_LR = class_names[int(score_LR)]\n",
    "    \n",
    "    score_KNN = KNN_model.predict(test_arr)\n",
    "    score_KNN = class_names[int(score_KNN)]\n",
    "    \n",
    "    score_DT = DT_model.predict(test_arr)\n",
    "    score_DT = class_names[int(score_DT)]\n",
    "    \n",
    "    score_RF = RF_model.predict(test_arr)\n",
    "    score_RF = class_names[int(score_RF)]\n",
    "    \n",
    "    score_SVM = SVM_model.predict(test_arr)\n",
    "    score_SVM = class_names[int(score_SVM)]\n",
    "    \n",
    "    score_CNN = CNN_model.predict(test_arr_cnn)\n",
    "    score_CNN = np.argmax(score_CNN,axis=1)\n",
    "    score_CNN = class_names[int(score_CNN)]\n",
    "\n",
    "    return [\"The algorithms classified the image as the following:\", (\"Logistic Regression:\", score_LR), (\"K-Nearest Neighbours:\", score_KNN), (\"Decision Tree:\", score_DT), (\"Random Forest:\", score_RF), (\"Support Vector Machine:\",score_SVM), (\"Convolutional Neural Network:\",score_CNN)]"
   ]
  },
  {
   "cell_type": "code",
   "execution_count": null,
   "metadata": {},
   "outputs": [],
   "source": []
  }
 ],
 "metadata": {
  "kernelspec": {
   "display_name": "Python 3",
   "language": "python",
   "name": "python3"
  },
  "language_info": {
   "codemirror_mode": {
    "name": "ipython",
    "version": 3
   },
   "file_extension": ".py",
   "mimetype": "text/x-python",
   "name": "python",
   "nbconvert_exporter": "python",
   "pygments_lexer": "ipython3",
   "version": "3.7.6"
  }
 },
 "nbformat": 4,
 "nbformat_minor": 4
}
