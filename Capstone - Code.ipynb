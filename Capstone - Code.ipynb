{
 "cells": [
  {
   "cell_type": "markdown",
   "metadata": {
    "id": "DQqV73xNwuMx"
   },
   "source": [
    "# Capstone Project "
   ]
  },
  {
   "cell_type": "markdown",
   "metadata": {
    "id": "-yLOza8PwuMy"
   },
   "source": [
    "Within this project, we are tasked with considering the data Fashion MNIST made available by Zalando which consists of 70000 images which are stored as $28 \\times28$ RGB values. It is important to however note, rather than 3-Dimensional RGB values, we have a one dimensional RGB value. This is due to the fact that the images are stored in greyscale, and the single RGB value represents the brightness of each pixel. A value of 0 indicate the pixel is white, and a value of 255 indicates a pixel is black."
   ]
  },
  {
   "cell_type": "markdown",
   "metadata": {
    "id": "WUe6uVD6wuMz"
   },
   "source": [
    "The objective is to then perform fit various classification models to the dataset, and obtain a suitable model in a sufficiently short time which does not overfit.\n",
    "\n",
    "Thus, the classification models which will be fitted to the data here are:\n",
    "* Logistic Regression\n",
    "* K-Nearest Neighbours\n",
    "* Decision Tree\n",
    "* Random Forest\n",
    "* Support Vector Machine\n",
    "* Convolutional Neural Network. "
   ]
  },
  {
   "cell_type": "markdown",
   "metadata": {
    "id": "GgevFcnbwuMz"
   },
   "source": [
    "## Preamble "
   ]
  },
  {
   "cell_type": "markdown",
   "metadata": {
    "id": "mS237fkqwuM0"
   },
   "source": [
    "The relevant packages are imported:"
   ]
  },
  {
   "cell_type": "code",
   "execution_count": 1,
   "metadata": {
    "executionInfo": {
     "elapsed": 3286,
     "status": "ok",
     "timestamp": 1602069611735,
     "user": {
      "displayName": "Ricardo Marques Salgado",
      "photoUrl": "",
      "userId": "03454406512512790382"
     },
     "user_tz": -120
    },
    "id": "ZJyIkh3WwuM1"
   },
   "outputs": [],
   "source": [
    "import pandas as pd\n",
    "import numpy as np\n",
    "import matplotlib.pyplot as plt\n",
    "import seaborn as sn\n",
    "\n",
    "import tensorflow\n",
    "import joblib\n",
    "\n",
    "from sklearn import metrics\n",
    "from datetime import datetime\n",
    "from sklearn.model_selection import cross_validate\n",
    "from sklearn.model_selection import KFold\n",
    "\n",
    "from sklearn import linear_model\n",
    "from sklearn.neighbors import KNeighborsClassifier\n",
    "from sklearn.tree import DecisionTreeClassifier\n",
    "from sklearn.ensemble import RandomForestClassifier\n",
    "from sklearn.svm import SVC"
   ]
  },
  {
   "cell_type": "markdown",
   "metadata": {
    "id": "uN14IrBKwuM4"
   },
   "source": [
    "## Loading the Data"
   ]
  },
  {
   "cell_type": "code",
   "execution_count": 2,
   "metadata": {
    "executionInfo": {
     "elapsed": 3328,
     "status": "ok",
     "timestamp": 1602069612306,
     "user": {
      "displayName": "Ricardo Marques Salgado",
      "photoUrl": "",
      "userId": "03454406512512790382"
     },
     "user_tz": -120
    },
    "id": "lpCKDw5gwuM5"
   },
   "outputs": [],
   "source": [
    "fashion_mnist = tensorflow.keras.datasets.fashion_mnist\n",
    "\n",
    "(train_images, train_labels), (test_images, test_labels) = fashion_mnist.load_data()"
   ]
  },
  {
   "cell_type": "markdown",
   "metadata": {
    "id": "6DF4mjVKwuM7"
   },
   "source": [
    "Thus, the above code imports the data into 4 seperate components. Namely:\n",
    "* A training set.\n",
    "* The training labels.\n",
    "* A testing set.\n",
    "* The testing labels.\n",
    "\n",
    "This is how the data by default is packaged."
   ]
  },
  {
   "cell_type": "markdown",
   "metadata": {
    "id": "O_9qnZHZwuM8"
   },
   "source": [
    "## Exploratory Data Analysis"
   ]
  },
  {
   "cell_type": "markdown",
   "metadata": {
    "id": "gqpUZDpqwuM8"
   },
   "source": [
    "Not all of the exploratory analysis available with the report appears within the notebook, this is due to the fact that some graphs were far easier to obtain in R."
   ]
  },
  {
   "cell_type": "markdown",
   "metadata": {
    "id": "z5ddUifRwuM9"
   },
   "source": [
    "The images are $28 \\times 28$ NumPy arrays, with pixel values ranging from 0 to 255. The labels are an array of integers, ranging from 0 to 9. These correspond to the class of clothing the image represents, however the class of each clothing item is not included with the data. As such, we save these:"
   ]
  },
  {
   "cell_type": "code",
   "execution_count": 3,
   "metadata": {
    "executionInfo": {
     "elapsed": 2312,
     "status": "ok",
     "timestamp": 1602069612307,
     "user": {
      "displayName": "Ricardo Marques Salgado",
      "photoUrl": "",
      "userId": "03454406512512790382"
     },
     "user_tz": -120
    },
    "id": "NWmck7W8wuM-"
   },
   "outputs": [],
   "source": [
    "class_names = ['T-shirt/top', 'Trouser', 'Pullover', 'Dress', 'Coat',\n",
    "               'Sandal', 'Shirt', 'Sneaker', 'Bag', 'Ankle boot']"
   ]
  },
  {
   "cell_type": "markdown",
   "metadata": {
    "id": "k99lfyC6wuNA"
   },
   "source": [
    "We now look at several different components of the dataset, to improve our understanding of the structure of the data as well confirm the data has indeed been imported correctly."
   ]
  },
  {
   "cell_type": "markdown",
   "metadata": {
    "id": "aVQQ5VZ3wuNB"
   },
   "source": [
    "Thus, we see that the training dataset consists of 60000 images, each with $28\\times28$ pixels."
   ]
  },
  {
   "cell_type": "code",
   "execution_count": 5,
   "metadata": {
    "colab": {
     "base_uri": "https://localhost:8080/"
    },
    "executionInfo": {
     "elapsed": 1680,
     "status": "ok",
     "timestamp": 1602069612307,
     "user": {
      "displayName": "Ricardo Marques Salgado",
      "photoUrl": "",
      "userId": "03454406512512790382"
     },
     "user_tz": -120
    },
    "id": "iE0jatkNwuNB",
    "outputId": "2baf99c9-25de-495b-dd85-0c5a19da103b"
   },
   "outputs": [
    {
     "data": {
      "text/plain": [
       "(60000, 28, 28)"
      ]
     },
     "execution_count": 5,
     "metadata": {},
     "output_type": "execute_result"
    }
   ],
   "source": [
    "train_images.shape"
   ]
  },
  {
   "cell_type": "markdown",
   "metadata": {
    "id": "YoRoiD9AwuNF"
   },
   "source": [
    "We then confirm that we have the same number of corresponding labels for the training dataset."
   ]
  },
  {
   "cell_type": "code",
   "execution_count": 6,
   "metadata": {
    "colab": {
     "base_uri": "https://localhost:8080/"
    },
    "executionInfo": {
     "elapsed": 990,
     "status": "ok",
     "timestamp": 1602069612308,
     "user": {
      "displayName": "Ricardo Marques Salgado",
      "photoUrl": "",
      "userId": "03454406512512790382"
     },
     "user_tz": -120
    },
    "id": "0Jp4hCzIwuNF",
    "outputId": "9032a8c2-2efd-42d1-e6e3-812aa17a6383"
   },
   "outputs": [
    {
     "data": {
      "text/plain": [
       "60000"
      ]
     },
     "execution_count": 6,
     "metadata": {},
     "output_type": "execute_result"
    }
   ],
   "source": [
    "len(train_labels)"
   ]
  },
  {
   "cell_type": "markdown",
   "metadata": {
    "id": "hzvVPfi8wuNI"
   },
   "source": [
    "We confirm that there are no missing labels for the training dataset."
   ]
  },
  {
   "cell_type": "code",
   "execution_count": 7,
   "metadata": {
    "colab": {
     "base_uri": "https://localhost:8080/"
    },
    "executionInfo": {
     "elapsed": 1287,
     "status": "ok",
     "timestamp": 1602069613071,
     "user": {
      "displayName": "Ricardo Marques Salgado",
      "photoUrl": "",
      "userId": "03454406512512790382"
     },
     "user_tz": -120
    },
    "id": "tlRlOrA2wuNJ",
    "outputId": "6df0fc32-6f6a-4af5-f4fe-25f043040284"
   },
   "outputs": [
    {
     "data": {
      "text/plain": [
       "array([9, 0, 0, ..., 3, 0, 5], dtype=uint8)"
      ]
     },
     "execution_count": 7,
     "metadata": {},
     "output_type": "execute_result"
    }
   ],
   "source": [
    "train_labels"
   ]
  },
  {
   "cell_type": "markdown",
   "metadata": {
    "id": "T9a75nbCwuNM"
   },
   "source": [
    "We now repeat the above process for the testing dataset."
   ]
  },
  {
   "cell_type": "code",
   "execution_count": 8,
   "metadata": {
    "colab": {
     "base_uri": "https://localhost:8080/"
    },
    "executionInfo": {
     "elapsed": 1391,
     "status": "ok",
     "timestamp": 1602069613650,
     "user": {
      "displayName": "Ricardo Marques Salgado",
      "photoUrl": "",
      "userId": "03454406512512790382"
     },
     "user_tz": -120
    },
    "id": "Ebk_hRluwuNM",
    "outputId": "531ef1cb-aba0-43a6-ed63-30bff9466cc9"
   },
   "outputs": [
    {
     "data": {
      "text/plain": [
       "(10000, 28, 28)"
      ]
     },
     "execution_count": 8,
     "metadata": {},
     "output_type": "execute_result"
    }
   ],
   "source": [
    "test_images.shape"
   ]
  },
  {
   "cell_type": "code",
   "execution_count": 9,
   "metadata": {
    "colab": {
     "base_uri": "https://localhost:8080/"
    },
    "executionInfo": {
     "elapsed": 1137,
     "status": "ok",
     "timestamp": 1602069613651,
     "user": {
      "displayName": "Ricardo Marques Salgado",
      "photoUrl": "",
      "userId": "03454406512512790382"
     },
     "user_tz": -120
    },
    "id": "z9-MYhg8wuNP",
    "outputId": "d50cc737-229b-4a31-d69c-9e1a9af9e373"
   },
   "outputs": [
    {
     "data": {
      "text/plain": [
       "10000"
      ]
     },
     "execution_count": 9,
     "metadata": {},
     "output_type": "execute_result"
    }
   ],
   "source": [
    "len(test_labels)"
   ]
  },
  {
   "cell_type": "code",
   "execution_count": 10,
   "metadata": {
    "colab": {
     "base_uri": "https://localhost:8080/"
    },
    "executionInfo": {
     "elapsed": 1439,
     "status": "ok",
     "timestamp": 1602069614332,
     "user": {
      "displayName": "Ricardo Marques Salgado",
      "photoUrl": "",
      "userId": "03454406512512790382"
     },
     "user_tz": -120
    },
    "id": "CZEeiNMqwuNR",
    "outputId": "5bb372a2-b909-4dc0-b83a-7d9a820c8dc6"
   },
   "outputs": [
    {
     "data": {
      "text/plain": [
       "array([9, 2, 1, ..., 8, 1, 5], dtype=uint8)"
      ]
     },
     "execution_count": 10,
     "metadata": {},
     "output_type": "execute_result"
    }
   ],
   "source": [
    "test_labels"
   ]
  },
  {
   "cell_type": "markdown",
   "metadata": {
    "id": "tHm1TZwjwuNU"
   },
   "source": [
    "We then also inspect the first image within the dataset, so see that our understanding thus far of what is contained within the dataset is indeed correct."
   ]
  },
  {
   "cell_type": "code",
   "execution_count": 11,
   "metadata": {
    "colab": {
     "base_uri": "https://localhost:8080/",
     "height": 265
    },
    "executionInfo": {
     "elapsed": 1403,
     "status": "ok",
     "timestamp": 1602069614925,
     "user": {
      "displayName": "Ricardo Marques Salgado",
      "photoUrl": "",
      "userId": "03454406512512790382"
     },
     "user_tz": -120
    },
    "id": "TiSNxSlNwuNV",
    "outputId": "a17c251d-d981-4e36-bd2c-9ee1abd28cbf"
   },
   "outputs": [
    {
     "data": {
      "image/png": "[encoded data removed]",
      "text/plain": [
       "<Figure size 432x288 with 2 Axes>"
      ]
     },
     "metadata": {
      "needs_background": "light"
     },
     "output_type": "display_data"
    }
   ],
   "source": [
    "plt.figure()\n",
    "plt.imshow(train_images[0])\n",
    "plt.colorbar()\n",
    "plt.grid(False)\n",
    "#plt.savefig('shoe.png')"
   ]
  },
  {
   "cell_type": "markdown",
   "metadata": {
    "id": "7aqJsENswuNX"
   },
   "source": [
    "Thus, from the above picture it appears as though the first fashion item is some sort of Nike Shoe."
   ]
  },
  {
   "cell_type": "markdown",
   "metadata": {
    "id": "liUU8mOiwuNY"
   },
   "source": [
    "While, if we then repeat the same idea as above however we consider the next 25 images in the dataset we have the following matrix of plots."
   ]
  },
  {
   "cell_type": "code",
   "execution_count": 12,
   "metadata": {
    "colab": {
     "base_uri": "https://localhost:8080/",
     "height": 589
    },
    "executionInfo": {
     "elapsed": 2672,
     "status": "ok",
     "timestamp": 1602069617344,
     "user": {
      "displayName": "Ricardo Marques Salgado",
      "photoUrl": "",
      "userId": "03454406512512790382"
     },
     "user_tz": -120
    },
    "id": "sb3dgPo6wuNY",
    "outputId": "fd9cecbf-2a1e-4a3d-a69c-fd38c4f98d12"
   },
   "outputs": [
    {
     "data": {
      "image/png": "[encoded data removed]",
      "text/plain": [
       "<Figure size 720x720 with 25 Axes>"
      ]
     },
     "metadata": {},
     "output_type": "display_data"
    }
   ],
   "source": [
    "plt.figure(figsize=(10,10))\n",
    "for i in range(25):\n",
    "    plt.subplot(5,5,i+1)\n",
    "    plt.xticks([])\n",
    "    plt.yticks([])\n",
    "    plt.grid(False)\n",
    "    plt.imshow(train_images[i+1], cmap=plt.cm.binary)\n",
    "    plt.xlabel(class_names[train_labels[i+1]])\n",
    "#plt.savefig('subset.png')"
   ]
  },
  {
   "cell_type": "markdown",
   "metadata": {
    "id": "S0zetPAdwuNb"
   },
   "source": [
    "The last thing which we consider here is frequency plots of the various labels in both the training and testing set."
   ]
  },
  {
   "cell_type": "code",
   "execution_count": 13,
   "metadata": {
    "colab": {
     "base_uri": "https://localhost:8080/",
     "height": 300
    },
    "executionInfo": {
     "elapsed": 3379,
     "status": "ok",
     "timestamp": 1602069618741,
     "user": {
      "displayName": "Ricardo Marques Salgado",
      "photoUrl": "",
      "userId": "03454406512512790382"
     },
     "user_tz": -120
    },
    "id": "AFDWZK_kwuNb",
    "outputId": "82527e5c-2aa5-4e4f-a120-fb659e0eea7d"
   },
   "outputs": [
    {
     "data": {
      "text/plain": [
       "Text(0.5, 0, 'Label')"
      ]
     },
     "execution_count": 13,
     "metadata": {},
     "output_type": "execute_result"
    },
    {
     "data": {
      "image/png": "[encoded data removed]",
      "text/plain": [
       "<Figure size 432x288 with 1 Axes>"
      ]
     },
     "metadata": {
      "needs_background": "light"
     },
     "output_type": "display_data"
    }
   ],
   "source": [
    "x = np.arange(len(class_names))  # the label locations\n",
    "width = 0.35  # the width of the bars\n",
    "\n",
    "fig, ax = plt.subplots()\n",
    "rects1 = ax.bar(x - width/2, pd.crosstab(train_labels, columns = 6000), width, label='Train', color = 'lime')\n",
    "\n",
    "def autolabel(rects):\n",
    "    \"\"\"Attach a text label above each bar in *rects*, displaying its height.\"\"\"\n",
    "    for rect in rects:\n",
    "        height = rect.get_height()\n",
    "        ax.annotate('{}'.format(height),\n",
    "                    xy=(rect.get_x() + rect.get_width() / 2, height),\n",
    "                    xytext=(0, 3),  # 3 points vertical offset\n",
    "                    textcoords=\"offset points\",\n",
    "                    ha='center', va='bottom')\n",
    "\n",
    "\n",
    "autolabel(rects1)\n",
    "\n",
    "plt.ylim(0, 7000)\n",
    "plt.ylabel(\"Count\")\n",
    "plt.xlabel(\"Label\")\n",
    "#plt.savefig('train_count.png')"
   ]
  },
  {
   "cell_type": "code",
   "execution_count": 14,
   "metadata": {
    "colab": {
     "base_uri": "https://localhost:8080/",
     "height": 300
    },
    "executionInfo": {
     "elapsed": 2907,
     "status": "ok",
     "timestamp": 1602069618742,
     "user": {
      "displayName": "Ricardo Marques Salgado",
      "photoUrl": "",
      "userId": "03454406512512790382"
     },
     "user_tz": -120
    },
    "id": "bSCYQ9CQwuNe",
    "outputId": "48823985-bde7-426a-cb00-34a2e1c1020b"
   },
   "outputs": [
    {
     "data": {
      "text/plain": [
       "Text(0.5, 0, 'Label')"
      ]
     },
     "execution_count": 14,
     "metadata": {},
     "output_type": "execute_result"
    },
    {
     "data": {
      "image/png": "[encoded data removed]",
      "text/plain": [
       "<Figure size 432x288 with 1 Axes>"
      ]
     },
     "metadata": {
      "needs_background": "light"
     },
     "output_type": "display_data"
    }
   ],
   "source": [
    "x = np.arange(len(class_names))  # the label locations\n",
    "width = 0.35  # the width of the bars\n",
    "\n",
    "fig, ax = plt.subplots()\n",
    "rects1 = ax.bar(x - width/2, pd.crosstab(test_labels, columns = 1000), width, label='Test', color = 'cyan')\n",
    "\n",
    "autolabel(rects1)\n",
    "\n",
    "plt.ylim(0, 1200)\n",
    "plt.ylabel(\"Count\")\n",
    "plt.xlabel(\"Label\")\n",
    "#plt.savefig('test_count.png')"
   ]
  },
  {
   "cell_type": "markdown",
   "metadata": {
    "id": "3vtNlrpdwuNg"
   },
   "source": [
    "We can also consider a histogram of the brightness of the pixels to obtain an idea regarding the empirical distribution of the brightness of the images."
   ]
  },
  {
   "cell_type": "markdown",
   "metadata": {
    "id": "Vz668g5LwuNh"
   },
   "source": [
    "However, in order to do this, we first shape the data into the necessary format."
   ]
  },
  {
   "cell_type": "code",
   "execution_count": 15,
   "metadata": {
    "executionInfo": {
     "elapsed": 1722,
     "status": "ok",
     "timestamp": 1602069618742,
     "user": {
      "displayName": "Ricardo Marques Salgado",
      "photoUrl": "",
      "userId": "03454406512512790382"
     },
     "user_tz": -120
    },
    "id": "00PYcUWNwuNh"
   },
   "outputs": [],
   "source": [
    "train_x = np.reshape(train_images,(60000,784))\n",
    "test_x = np.reshape(test_images,(10000,784))\n",
    "data = np.concatenate((train_x, test_x))\n",
    "target = np.concatenate((train_labels, test_labels))"
   ]
  },
  {
   "cell_type": "code",
   "execution_count": 16,
   "metadata": {
    "colab": {
     "base_uri": "https://localhost:8080/",
     "height": 296
    },
    "executionInfo": {
     "elapsed": 44973,
     "status": "ok",
     "timestamp": 1602069662430,
     "user": {
      "displayName": "Ricardo Marques Salgado",
      "photoUrl": "",
      "userId": "03454406512512790382"
     },
     "user_tz": -120
    },
    "id": "yyrWacw7wuNk",
    "outputId": "12073c95-16ce-4de5-9292-e22d4f2ace26"
   },
   "outputs": [
    {
     "data": {
      "text/plain": [
       "Text(0, 0.5, 'Frequency')"
      ]
     },
     "execution_count": 16,
     "metadata": {},
     "output_type": "execute_result"
    },
    {
     "data": {
      "image/png": "[encoded data removed]",
      "text/plain": [
       "<Figure size 432x288 with 1 Axes>"
      ]
     },
     "metadata": {
      "needs_background": "light"
     },
     "output_type": "display_data"
    }
   ],
   "source": [
    "plt.hist(train_x, color=['gray']*train_x.shape[1], bins = 30)\n",
    "plt.xlabel(\"Pixel Brightness (0-255)\")\n",
    "plt.ylabel(\"Frequency\")\n",
    "#plt.savefig('grey_freq.png')"
   ]
  },
  {
   "cell_type": "markdown",
   "metadata": {
    "id": "lOfGOb3RwuNm"
   },
   "source": [
    "One consideration is that currently the RGB value ranges from 0-255, however this can be scaled to be a value between 0-1 by dividing by 255. This should not affect the classification results itself, but will allow us to train all subsequent models quicker than should the values range from 0-255."
   ]
  },
  {
   "cell_type": "code",
   "execution_count": 17,
   "metadata": {
    "executionInfo": {
     "elapsed": 43522,
     "status": "ok",
     "timestamp": 1602069662431,
     "user": {
      "displayName": "Ricardo Marques Salgado",
      "photoUrl": "",
      "userId": "03454406512512790382"
     },
     "user_tz": -120
    },
    "id": "8Xw9_7DewuNm"
   },
   "outputs": [],
   "source": [
    "train_x = train_x / 255\n",
    "test_x = test_x / 255\n",
    "data = data / 255"
   ]
  },
  {
   "cell_type": "markdown",
   "metadata": {
    "id": "6sCb5nWOwuNo"
   },
   "source": [
    "# Logistic Regression "
   ]
  },
  {
   "cell_type": "markdown",
   "metadata": {
    "id": "28TL7fUowuNp"
   },
   "source": [
    "Having completed an exploratory analysis of the data we can now begin with the modelling. It is important to note that as we have shown above, the data of interest is not binary as is typically the case for logisitic regression. Thus, we are performing multinomial logistic regression, as the response variable in this case consists of multiple classes."
   ]
  },
  {
   "cell_type": "markdown",
   "metadata": {
    "id": "Fr65nng1wuNp"
   },
   "source": [
    "As we are proceeding with multinomial logistic regression, the first consideration is the main assumption for multinomial logistic regression, that is we check whether there is relatively low colinearity within the data. \n",
    "\n",
    "However, one main issue with attempting to determine whether there is relatively low colinearity within the data, is that due to the size of the dataset, determining the correlation matrix is extremely computationally expensive. Possible ways in which this can be done is to make use of parallel computing or stratified sampling."
   ]
  },
  {
   "cell_type": "markdown",
   "metadata": {
    "id": "QlTsm4HkwuNq"
   },
   "source": [
    "We now initialze our logistic regression object."
   ]
  },
  {
   "cell_type": "code",
   "execution_count": 33,
   "metadata": {
    "executionInfo": {
     "elapsed": 1196,
     "status": "ok",
     "timestamp": 1602053321853,
     "user": {
      "displayName": "Ricardo Marques Salgado",
      "photoUrl": "",
      "userId": "03454406512512790382"
     },
     "user_tz": -120
    },
    "id": "9v-YT49qwuNq"
   },
   "outputs": [],
   "source": [
    "lbfgs = linear_model.LogisticRegression(max_iter = 100, solver = 'lbfgs', multi_class = 'multinomial', n_jobs = 12)"
   ]
  },
  {
   "cell_type": "code",
   "execution_count": 34,
   "metadata": {
    "executionInfo": {
     "elapsed": 46397,
     "status": "ok",
     "timestamp": 1602053373204,
     "user": {
      "displayName": "Ricardo Marques Salgado",
      "photoUrl": "",
      "userId": "03454406512512790382"
     },
     "user_tz": -120
    },
    "id": "lnjKab2cwuNs"
   },
   "outputs": [],
   "source": [
    "start = datetime.now()\n",
    "lbfgs.fit(train_x, train_labels)\n",
    "end = datetime.now()\n",
    "time_taken = end - start"
   ]
  },
  {
   "cell_type": "markdown",
   "metadata": {
    "id": "soElhUyJwuNu"
   },
   "source": [
    "Having now fitted the model, we can evaluate the fit of the model."
   ]
  },
  {
   "cell_type": "code",
   "execution_count": 35,
   "metadata": {
    "executionInfo": {
     "elapsed": 1528,
     "status": "ok",
     "timestamp": 1602053399204,
     "user": {
      "displayName": "Ricardo Marques Salgado",
      "photoUrl": "",
      "userId": "03454406512512790382"
     },
     "user_tz": -120
    },
    "id": "WVXIXRMPwuNv"
   },
   "outputs": [],
   "source": [
    "label_pred = lbfgs.predict(test_x)"
   ]
  },
  {
   "cell_type": "markdown",
   "metadata": {
    "id": "-6MdH4TGwuNx"
   },
   "source": [
    "The confusion matrix and results are thus as follows:"
   ]
  },
  {
   "cell_type": "code",
   "execution_count": 36,
   "metadata": {
    "colab": {
     "base_uri": "https://localhost:8080/"
    },
    "executionInfo": {
     "elapsed": 1254,
     "status": "ok",
     "timestamp": 1602053402103,
     "user": {
      "displayName": "Ricardo Marques Salgado",
      "photoUrl": "",
      "userId": "03454406512512790382"
     },
     "user_tz": -120
    },
    "id": "gecwVCQRwuNy",
    "outputId": "de0bc727-8527-42d9-cc50-8e3c4029ed73"
   },
   "outputs": [
    {
     "name": "stdout",
     "output_type": "stream",
     "text": [
      "              precision    recall  f1-score   support\n",
      "\n",
      "           0       0.81      0.81      0.81      1000\n",
      "           1       0.97      0.96      0.97      1000\n",
      "           2       0.73      0.73      0.73      1000\n",
      "           3       0.83      0.87      0.85      1000\n",
      "           4       0.73      0.76      0.74      1000\n",
      "           5       0.94      0.93      0.93      1000\n",
      "           6       0.62      0.57      0.59      1000\n",
      "           7       0.90      0.94      0.92      1000\n",
      "           8       0.94      0.94      0.94      1000\n",
      "           9       0.95      0.94      0.94      1000\n",
      "\n",
      "    accuracy                           0.84     10000\n",
      "   macro avg       0.84      0.84      0.84     10000\n",
      "weighted avg       0.84      0.84      0.84     10000\n",
      "\n",
      "[[807   4  17  48   5   2 108   0   9   0]\n",
      " [  2 961   1  25   5   0   4   0   2   0]\n",
      " [ 19   6 735  12 131   1  86   0  10   0]\n",
      " [ 30  12  12 869  29   0  44   0   4   0]\n",
      " [  0   2 108  38 756   1  87   0   8   0]\n",
      " [  0   0   0   1   0 925   0  51   3  20]\n",
      " [129   2 129  40 106   1 568   0  25   0]\n",
      " [  0   0   0   0   0  33   0 938   0  29]\n",
      " [  7   1   6  10   3   5  21   5 942   0]\n",
      " [  0   0   0   0   0  13   0  47   2 938]]\n"
     ]
    }
   ],
   "source": [
    "print(metrics.classification_report(test_labels, label_pred))\n",
    "confusion_matrix = metrics.confusion_matrix(test_labels, label_pred)\n",
    "print(confusion_matrix)"
   ]
  },
  {
   "cell_type": "code",
   "execution_count": 37,
   "metadata": {
    "colab": {
     "base_uri": "https://localhost:8080/"
    },
    "executionInfo": {
     "elapsed": 1210,
     "status": "ok",
     "timestamp": 1602053405018,
     "user": {
      "displayName": "Ricardo Marques Salgado",
      "photoUrl": "",
      "userId": "03454406512512790382"
     },
     "user_tz": -120
    },
    "id": "PQYbho4ewuN1",
    "outputId": "cf209965-88e6-4779-abd0-7163a5f3174c"
   },
   "outputs": [
    {
     "name": "stdout",
     "output_type": "stream",
     "text": [
      "Time:  0:00:58.518230\n"
     ]
    }
   ],
   "source": [
    "print('Time: ',time_taken) "
   ]
  },
  {
   "cell_type": "code",
   "execution_count": 38,
   "metadata": {
    "colab": {
     "base_uri": "https://localhost:8080/",
     "height": 606
    },
    "executionInfo": {
     "elapsed": 2865,
     "status": "ok",
     "timestamp": 1602053408969,
     "user": {
      "displayName": "Ricardo Marques Salgado",
      "photoUrl": "",
      "userId": "03454406512512790382"
     },
     "user_tz": -120
    },
    "id": "mnuwNqx4wuN3",
    "outputId": "71ab6e29-8838-41f9-95ed-dabc12abcec8"
   },
   "outputs": [
    {
     "data": {
      "image/png": "[encoded data removed]",
      "text/plain": [
       "<Figure size 1008x720 with 2 Axes>"
      ]
     },
     "metadata": {
      "needs_background": "light"
     },
     "output_type": "display_data"
    }
   ],
   "source": [
    "plt.figure(figsize= (14,10))\n",
    "ax=sn.heatmap(confusion_matrix, annot=True,xticklabels = ['T-shirt/Top','Trouser','Pullover','Dress','Coat','Sandal','Shirt','Sneaker','Bag','Ankle Boot'],\n",
    "           yticklabels=['T-shirt/Top','Trouser','Pullover','Dress','Coat','Sandal','Shirt','Sneaker','Bag','Ankle Boot'],cmap = 'mako')\n",
    "ax.set(xlabel='Predicted Class', ylabel='True Class')\n",
    "plt.show()"
   ]
  },
  {
   "cell_type": "markdown",
   "metadata": {
    "id": "mlPT-EOVwuN5"
   },
   "source": [
    "In order to ensure the results obtained above are indeed correct, cross validation of the results is performed."
   ]
  },
  {
   "cell_type": "markdown",
   "metadata": {
    "id": "qgDHgpjCwuN5"
   },
   "source": [
    "However, in order to be able to make use of cross validation, we need to consider the entire dataset, and not only the current split of the data. Thus, we make use of the combined the training and test set from the original dataset and proceed from there. "
   ]
  },
  {
   "cell_type": "code",
   "execution_count": 23,
   "metadata": {
    "colab": {
     "base_uri": "https://localhost:8080/"
    },
    "executionInfo": {
     "elapsed": 205133,
     "status": "ok",
     "timestamp": 1602053624568,
     "user": {
      "displayName": "Ricardo Marques Salgado",
      "photoUrl": "",
      "userId": "03454406512512790382"
     },
     "user_tz": -120
    },
    "id": "0xxQvnbwwuN5",
    "outputId": "8c11a929-e6c7-46eb-c518-ca16e1aa3660"
   },
   "outputs": [
    {
     "name": "stdout",
     "output_type": "stream",
     "text": [
      "Validation accuracy for each fold: [0.85458987 0.8613123  0.84991214]\n",
      "Average Accuracy:  0.8552714383081349\n"
     ]
    }
   ],
   "source": [
    "cv_results = cross_validate(lbfgs, data, target, cv=3)\n",
    "print(f\"Validation accuracy for each fold: {cv_results['test_score']}\")\n",
    "print(f\"Average Accuracy:  {np.mean(cv_results['test_score'])}\")"
   ]
  },
  {
   "cell_type": "markdown",
   "metadata": {},
   "source": [
    "The final thing we do is to save the model itself so this can be used later."
   ]
  },
  {
   "cell_type": "code",
   "execution_count": 25,
   "metadata": {},
   "outputs": [
    {
     "data": {
      "text/plain": [
       "['Final_LR.sav']"
      ]
     },
     "execution_count": 25,
     "metadata": {},
     "output_type": "execute_result"
    }
   ],
   "source": [
    "filename = 'Final_LR.sav'\n",
    "joblib.dump(lbfgs, filename)"
   ]
  },
  {
   "cell_type": "markdown",
   "metadata": {
    "id": "ML9cwxFWwuN8"
   },
   "source": [
    "## K - Nearest Neighbours"
   ]
  },
  {
   "cell_type": "markdown",
   "metadata": {
    "id": "slwoB9qzwuN8"
   },
   "source": [
    "The objective is now to be able to fit a K-nearest neighbours model to the data, the approach follows very closely to that which we did above."
   ]
  },
  {
   "cell_type": "markdown",
   "metadata": {
    "id": "D_1UJPWmwuN8"
   },
   "source": [
    "Thus, we first create the k-NN object."
   ]
  },
  {
   "cell_type": "code",
   "execution_count": 39,
   "metadata": {
    "executionInfo": {
     "elapsed": 1487,
     "status": "ok",
     "timestamp": 1602053635083,
     "user": {
      "displayName": "Ricardo Marques Salgado",
      "photoUrl": "",
      "userId": "03454406512512790382"
     },
     "user_tz": -120
    },
    "id": "bs4L_uycwuN9"
   },
   "outputs": [],
   "source": [
    "knn = KNeighborsClassifier(n_neighbors=6)"
   ]
  },
  {
   "cell_type": "markdown",
   "metadata": {
    "id": "OR-SkJYKwuN_"
   },
   "source": [
    "The model is now fitted:"
   ]
  },
  {
   "cell_type": "code",
   "execution_count": 40,
   "metadata": {
    "executionInfo": {
     "elapsed": 12593,
     "status": "ok",
     "timestamp": 1602053651066,
     "user": {
      "displayName": "Ricardo Marques Salgado",
      "photoUrl": "",
      "userId": "03454406512512790382"
     },
     "user_tz": -120
    },
    "id": "NeyQS4CgwuOA"
   },
   "outputs": [],
   "source": [
    "start = datetime.now()\n",
    "knn = knn.fit(train_x, train_labels)\n",
    "end = datetime.now()\n",
    "time_taken = end - start"
   ]
  },
  {
   "cell_type": "markdown",
   "metadata": {
    "id": "amV7e6SEwuOC"
   },
   "source": [
    "Having fitted the model, the model is now evaluated."
   ]
  },
  {
   "cell_type": "code",
   "execution_count": 29,
   "metadata": {
    "executionInfo": {
     "elapsed": 900133,
     "status": "ok",
     "timestamp": 1602054548393,
     "user": {
      "displayName": "Ricardo Marques Salgado",
      "photoUrl": "",
      "userId": "03454406512512790382"
     },
     "user_tz": -120
    },
    "id": "dIR9j1H5wuOC"
   },
   "outputs": [],
   "source": [
    "label_pred = knn.predict(test_x)"
   ]
  },
  {
   "cell_type": "code",
   "execution_count": 30,
   "metadata": {
    "colab": {
     "base_uri": "https://localhost:8080/"
    },
    "executionInfo": {
     "elapsed": 899680,
     "status": "ok",
     "timestamp": 1602054548398,
     "user": {
      "displayName": "Ricardo Marques Salgado",
      "photoUrl": "",
      "userId": "03454406512512790382"
     },
     "user_tz": -120
    },
    "id": "00LMqYhcwuOE",
    "outputId": "b72a55c5-8b52-49f9-c687-1f53eca38cb0"
   },
   "outputs": [
    {
     "name": "stdout",
     "output_type": "stream",
     "text": [
      "              precision    recall  f1-score   support\n",
      "\n",
      "           0       0.76      0.87      0.81      1000\n",
      "           1       0.99      0.97      0.98      1000\n",
      "           2       0.71      0.83      0.77      1000\n",
      "           3       0.90      0.86      0.88      1000\n",
      "           4       0.80      0.75      0.77      1000\n",
      "           5       0.99      0.83      0.91      1000\n",
      "           6       0.67      0.56      0.61      1000\n",
      "           7       0.88      0.97      0.92      1000\n",
      "           8       0.97      0.95      0.96      1000\n",
      "           9       0.91      0.96      0.93      1000\n",
      "\n",
      "    accuracy                           0.85     10000\n",
      "   macro avg       0.86      0.85      0.85     10000\n",
      "weighted avg       0.86      0.85      0.85     10000\n",
      "\n",
      "[[874   0  18  16   5   1  78   1   7   0]\n",
      " [  9 966   5  12   4   0   3   0   1   0]\n",
      " [ 24   2 830  11  68   0  65   0   0   0]\n",
      " [ 51   7  19 857  30   0  34   0   2   0]\n",
      " [  3   0 137  29 749   0  80   0   2   0]\n",
      " [  1   0   0   0   0 832   5  93   1  68]\n",
      " [193   0 141  23  74   0 557   0  12   0]\n",
      " [  0   0   0   0   0   3   0 969   0  28]\n",
      " [  2   0  14   5   7   0  14   7 949   2]\n",
      " [  0   0   1   0   0   1   0  37   0 961]]\n"
     ]
    }
   ],
   "source": [
    "print(metrics.classification_report(test_labels, label_pred))\n",
    "confusion_matrix = metrics.confusion_matrix(test_labels, label_pred)\n",
    "print(confusion_matrix)"
   ]
  },
  {
   "cell_type": "code",
   "execution_count": 31,
   "metadata": {
    "colab": {
     "base_uri": "https://localhost:8080/"
    },
    "executionInfo": {
     "elapsed": 899260,
     "status": "ok",
     "timestamp": 1602054548398,
     "user": {
      "displayName": "Ricardo Marques Salgado",
      "photoUrl": "",
      "userId": "03454406512512790382"
     },
     "user_tz": -120
    },
    "id": "wWYrI1RxwuOG",
    "outputId": "6189779a-28ba-4db3-836b-97290ad3207d"
   },
   "outputs": [
    {
     "name": "stdout",
     "output_type": "stream",
     "text": [
      "Time:  0:00:22.416181\n"
     ]
    }
   ],
   "source": [
    "print('Time: ',time_taken) "
   ]
  },
  {
   "cell_type": "code",
   "execution_count": 32,
   "metadata": {
    "colab": {
     "base_uri": "https://localhost:8080/",
     "height": 606
    },
    "executionInfo": {
     "elapsed": 900013,
     "status": "ok",
     "timestamp": 1602054549671,
     "user": {
      "displayName": "Ricardo Marques Salgado",
      "photoUrl": "",
      "userId": "03454406512512790382"
     },
     "user_tz": -120
    },
    "id": "0-mRN-3fwuOJ",
    "outputId": "6ad0d306-5590-4260-ef4f-4e46c3f4c834"
   },
   "outputs": [
    {
     "data": {
      "image/png": "[encoded data removed]",
      "text/plain": [
       "<Figure size 1008x720 with 2 Axes>"
      ]
     },
     "metadata": {
      "needs_background": "light"
     },
     "output_type": "display_data"
    }
   ],
   "source": [
    "plt.figure(figsize= (14,10))\n",
    "ax=sn.heatmap(confusion_matrix, annot=True,xticklabels = ['T-shirt/Top','Trouser','Pullover','Dress','Coat','Sandal','Shirt','Sneaker','Bag','Ankle Boot'],\n",
    "           yticklabels=['T-shirt/Top','Trouser','Pullover','Dress','Coat','Sandal','Shirt','Sneaker','Bag','Ankle Boot'],cmap = 'mako')\n",
    "ax.set(xlabel='Predicted Class', ylabel='True Class')\n",
    "plt.show()"
   ]
  },
  {
   "cell_type": "markdown",
   "metadata": {
    "id": "rwOQrAEvwuOL"
   },
   "source": [
    "Unfortuantely due to the large number of dimensions within the dataset, there is no reasonable way to represent the classification results. But just as before, we will make use of cross validation to confirm the results which we have obtained above are indeed correct."
   ]
  },
  {
   "cell_type": "code",
   "execution_count": null,
   "metadata": {
    "colab": {
     "base_uri": "https://localhost:8080/"
    },
    "executionInfo": {
     "elapsed": 5110938,
     "status": "ok",
     "timestamp": 1602059944661,
     "user": {
      "displayName": "Ricardo Marques Salgado",
      "photoUrl": "",
      "userId": "03454406512512790382"
     },
     "user_tz": -120
    },
    "id": "iyEgtRprwuOL",
    "outputId": "40750dd5-4c8d-4ce8-8087-82fa0a32e529"
   },
   "outputs": [],
   "source": [
    "cv_results = cross_validate(knn, data, target, cv=3)\n",
    "print(f\"Validation accuracy for each fold: {cv_results['test_score']}\")\n",
    "print(f\"Average Accuracy:  {np.mean(cv_results['test_score'])}\")"
   ]
  },
  {
   "cell_type": "markdown",
   "metadata": {},
   "source": [
    "We now also want to be able to save the model, as before."
   ]
  },
  {
   "cell_type": "code",
   "execution_count": 41,
   "metadata": {},
   "outputs": [
    {
     "data": {
      "text/plain": [
       "['Final_KNN.sav']"
      ]
     },
     "execution_count": 41,
     "metadata": {},
     "output_type": "execute_result"
    }
   ],
   "source": [
    "filename = 'Final_KNN.sav'\n",
    "joblib.dump(knn, filename)"
   ]
  },
  {
   "cell_type": "markdown",
   "metadata": {
    "id": "1OPLFlflwuON"
   },
   "source": [
    "# Decision Tree"
   ]
  },
  {
   "cell_type": "markdown",
   "metadata": {
    "id": "FwZhpeahwuOO"
   },
   "source": [
    "The objective is now to be able to fit a decision tree to the data, the approach follows very closely to that which we did above."
   ]
  },
  {
   "cell_type": "markdown",
   "metadata": {
    "id": "PaOK3S6iwuOO"
   },
   "source": [
    "Thus, we first create the decision tree classifier."
   ]
  },
  {
   "cell_type": "code",
   "execution_count": 46,
   "metadata": {
    "executionInfo": {
     "elapsed": 1251,
     "status": "ok",
     "timestamp": 1602060032161,
     "user": {
      "displayName": "Ricardo Marques Salgado",
      "photoUrl": "",
      "userId": "03454406512512790382"
     },
     "user_tz": -120
    },
    "id": "jhPE0vYIwuOO"
   },
   "outputs": [],
   "source": [
    "clf = DecisionTreeClassifier(criterion = 'entropy', max_depth = 15, max_features = 200)\n",
    "#clf = DecisionTreeClassifier(criterion = 'entropy', splitter = 'random', max_depth = 15, max_features = 200)"
   ]
  },
  {
   "cell_type": "markdown",
   "metadata": {
    "id": "HDG_J1jcwuOQ"
   },
   "source": [
    "The model is now fitted:"
   ]
  },
  {
   "cell_type": "code",
   "execution_count": 47,
   "metadata": {
    "executionInfo": {
     "elapsed": 11825,
     "status": "ok",
     "timestamp": 1602060044802,
     "user": {
      "displayName": "Ricardo Marques Salgado",
      "photoUrl": "",
      "userId": "03454406512512790382"
     },
     "user_tz": -120
    },
    "id": "exPUjxE3wuOR"
   },
   "outputs": [],
   "source": [
    "start = datetime.now()\n",
    "clf = clf.fit(train_x, train_labels)\n",
    "end = datetime.now()\n",
    "time_taken = end - start"
   ]
  },
  {
   "cell_type": "markdown",
   "metadata": {
    "id": "P6KRMaLaN7J5"
   },
   "source": [
    "Having fitted the model, the model is now evaluated."
   ]
  },
  {
   "cell_type": "code",
   "execution_count": 39,
   "metadata": {
    "executionInfo": {
     "elapsed": 1457,
     "status": "ok",
     "timestamp": 1602060114287,
     "user": {
      "displayName": "Ricardo Marques Salgado",
      "photoUrl": "",
      "userId": "03454406512512790382"
     },
     "user_tz": -120
    },
    "id": "4gcSdhUzwuOW"
   },
   "outputs": [],
   "source": [
    "label_pred = clf.predict(test_x)"
   ]
  },
  {
   "cell_type": "code",
   "execution_count": 40,
   "metadata": {
    "colab": {
     "base_uri": "https://localhost:8080/"
    },
    "executionInfo": {
     "elapsed": 1176,
     "status": "ok",
     "timestamp": 1602060114287,
     "user": {
      "displayName": "Ricardo Marques Salgado",
      "photoUrl": "",
      "userId": "03454406512512790382"
     },
     "user_tz": -120
    },
    "id": "MBMrlzAJwuOY",
    "outputId": "a66f759b-6b4c-48b3-ece3-2dd7dfd07fcf"
   },
   "outputs": [
    {
     "name": "stdout",
     "output_type": "stream",
     "text": [
      "              precision    recall  f1-score   support\n",
      "\n",
      "           0       0.79      0.76      0.77      1000\n",
      "           1       0.96      0.94      0.95      1000\n",
      "           2       0.67      0.70      0.69      1000\n",
      "           3       0.83      0.82      0.83      1000\n",
      "           4       0.69      0.69      0.69      1000\n",
      "           5       0.92      0.90      0.91      1000\n",
      "           6       0.55      0.56      0.55      1000\n",
      "           7       0.88      0.91      0.89      1000\n",
      "           8       0.92      0.92      0.92      1000\n",
      "           9       0.92      0.91      0.91      1000\n",
      "\n",
      "    accuracy                           0.81     10000\n",
      "   macro avg       0.81      0.81      0.81     10000\n",
      "weighted avg       0.81      0.81      0.81     10000\n",
      "\n",
      "[[759   4  22  38   6   1 156   0  14   0]\n",
      " [ 10 943   5  26   4   0   8   0   4   0]\n",
      " [ 12   4 704  11 139   0 121   0   8   1]\n",
      " [ 32  21  24 821  46   2  46   0   7   1]\n",
      " [  7   1 151  36 694   1 101   0   9   0]\n",
      " [  1   1   1   0   0 895   3  56  11  32]\n",
      " [128   5 122  51 111   1 555   0  25   2]\n",
      " [  0   0   0   0   0  48   0 907   1  44]\n",
      " [  9   4  18   2  11  10  20   5 917   4]\n",
      " [  1   0   0   0   0  19   1  65   4 910]]\n"
     ]
    }
   ],
   "source": [
    "print(metrics.classification_report(test_labels, label_pred))\n",
    "confusion_matrix = metrics.confusion_matrix(test_labels, label_pred)\n",
    "print(confusion_matrix)"
   ]
  },
  {
   "cell_type": "code",
   "execution_count": 42,
   "metadata": {
    "colab": {
     "base_uri": "https://localhost:8080/"
    },
    "executionInfo": {
     "elapsed": 1196,
     "status": "ok",
     "timestamp": 1602060186324,
     "user": {
      "displayName": "Ricardo Marques Salgado",
      "photoUrl": "",
      "userId": "03454406512512790382"
     },
     "user_tz": -120
    },
    "id": "tuMkxn6wwuOa",
    "outputId": "7092d32d-c6c9-4dd2-b873-203b0559ed47"
   },
   "outputs": [
    {
     "name": "stdout",
     "output_type": "stream",
     "text": [
      "Time:  0:00:10.451721\n"
     ]
    }
   ],
   "source": [
    "print('Time: ',time_taken) "
   ]
  },
  {
   "cell_type": "code",
   "execution_count": 41,
   "metadata": {
    "colab": {
     "base_uri": "https://localhost:8080/",
     "height": 606
    },
    "executionInfo": {
     "elapsed": 2249,
     "status": "ok",
     "timestamp": 1602060184396,
     "user": {
      "displayName": "Ricardo Marques Salgado",
      "photoUrl": "",
      "userId": "03454406512512790382"
     },
     "user_tz": -120
    },
    "id": "CVFqQHZhwuOe",
    "outputId": "f68e2651-f088-4096-de2b-8bc5493fefc9"
   },
   "outputs": [
    {
     "data": {
      "image/png": "[encoded data removed]",
      "text/plain": [
       "<Figure size 1008x720 with 2 Axes>"
      ]
     },
     "metadata": {
      "needs_background": "light",
      "tags": []
     },
     "output_type": "display_data"
    }
   ],
   "source": [
    "plt.figure(figsize= (14,10))\n",
    "ax=sn.heatmap(confusion_matrix, annot=True,xticklabels = ['T-shirt/Top','Trouser','Pullover','Dress','Coat','Sandal','Shirt','Sneaker','Bag','Ankle Boot'],\n",
    "           yticklabels=['T-shirt/Top','Trouser','Pullover','Dress','Coat','Sandal','Shirt','Sneaker','Bag','Ankle Boot'],cmap = 'mako')\n",
    "ax.set(xlabel='Predicted Class', ylabel='True Class')\n",
    "plt.show()"
   ]
  },
  {
   "cell_type": "markdown",
   "metadata": {
    "id": "FcJtxYrlwuOg"
   },
   "source": [
    "Unfortuantely due to the large size of the dataset, there is no reasonable way to visualize the decision tree. But just as before, we will make use of cross validation to confirm the results which we have obtained above are indeed correct."
   ]
  },
  {
   "cell_type": "code",
   "execution_count": 43,
   "metadata": {
    "colab": {
     "base_uri": "https://localhost:8080/"
    },
    "executionInfo": {
     "elapsed": 51699,
     "status": "ok",
     "timestamp": 1602060265107,
     "user": {
      "displayName": "Ricardo Marques Salgado",
      "photoUrl": "",
      "userId": "03454406512512790382"
     },
     "user_tz": -120
    },
    "id": "vZg47R4nwuOh",
    "outputId": "831ae23d-b606-4845-b545-4b4365ce4d82"
   },
   "outputs": [
    {
     "name": "stdout",
     "output_type": "stream",
     "text": [
      "Validation accuracy for each fold: [0.81335714 0.808      0.81378571 0.81585714 0.80814286]\n",
      "Average Accuracy:  0.8118285714285713\n"
     ]
    }
   ],
   "source": [
    "cv_results = cross_validate(clf, data, target, cv=5)\n",
    "print(f\"Validation accuracy for each fold: {cv_results['test_score']}\")\n",
    "print(f\"Average Accuracy:  {np.mean(cv_results['test_score'])}\")"
   ]
  },
  {
   "cell_type": "markdown",
   "metadata": {},
   "source": [
    "The model is now saved."
   ]
  },
  {
   "cell_type": "code",
   "execution_count": 48,
   "metadata": {},
   "outputs": [
    {
     "data": {
      "text/plain": [
       "['Final_DT.sav']"
      ]
     },
     "execution_count": 48,
     "metadata": {},
     "output_type": "execute_result"
    }
   ],
   "source": [
    "filename = 'Final_DT.sav'\n",
    "joblib.dump(clf, filename)"
   ]
  },
  {
   "cell_type": "markdown",
   "metadata": {
    "id": "JSPInSXFwuOj"
   },
   "source": [
    "# Random Forest"
   ]
  },
  {
   "cell_type": "markdown",
   "metadata": {
    "id": "Hj80RB2iwuOj"
   },
   "source": [
    "The objective is now to be able to fit a random forest to the data, the approach follows very closely to that which we did above."
   ]
  },
  {
   "cell_type": "markdown",
   "metadata": {
    "id": "Vq5C2ERuO5cl"
   },
   "source": [
    "Thus, we first create the random forest classifier."
   ]
  },
  {
   "cell_type": "code",
   "execution_count": 49,
   "metadata": {
    "executionInfo": {
     "elapsed": 1427,
     "status": "ok",
     "timestamp": 1602060343795,
     "user": {
      "displayName": "Ricardo Marques Salgado",
      "photoUrl": "",
      "userId": "03454406512512790382"
     },
     "user_tz": -120
    },
    "id": "w9UQrqkLwuOm"
   },
   "outputs": [],
   "source": [
    "random_fs = RandomForestClassifier(criterion='entropy', max_depth=70, n_estimators=100)"
   ]
  },
  {
   "cell_type": "markdown",
   "metadata": {
    "id": "h6un9qhuwuOo"
   },
   "source": [
    "The model is now fitted:"
   ]
  },
  {
   "cell_type": "code",
   "execution_count": 50,
   "metadata": {
    "executionInfo": {
     "elapsed": 120157,
     "status": "ok",
     "timestamp": 1602060466268,
     "user": {
      "displayName": "Ricardo Marques Salgado",
      "photoUrl": "",
      "userId": "03454406512512790382"
     },
     "user_tz": -120
    },
    "id": "DtxGPDnAwuOo"
   },
   "outputs": [],
   "source": [
    "start = datetime.now()\n",
    "clf = random_fs.fit(train_x, train_labels)\n",
    "end = datetime.now()\n",
    "time_taken = end - start"
   ]
  },
  {
   "cell_type": "markdown",
   "metadata": {
    "id": "K9R_u1UqwuOr"
   },
   "source": [
    "Having fitted the model, the model is now evaluated."
   ]
  },
  {
   "cell_type": "code",
   "execution_count": 46,
   "metadata": {
    "executionInfo": {
     "elapsed": 1399,
     "status": "ok",
     "timestamp": 1602060501802,
     "user": {
      "displayName": "Ricardo Marques Salgado",
      "photoUrl": "",
      "userId": "03454406512512790382"
     },
     "user_tz": -120
    },
    "id": "nC9tJ3hfwuOr"
   },
   "outputs": [],
   "source": [
    "label_pred = random_fs.predict(test_x)"
   ]
  },
  {
   "cell_type": "code",
   "execution_count": 47,
   "metadata": {
    "colab": {
     "base_uri": "https://localhost:8080/"
    },
    "executionInfo": {
     "elapsed": 1223,
     "status": "ok",
     "timestamp": 1602060504264,
     "user": {
      "displayName": "Ricardo Marques Salgado",
      "photoUrl": "",
      "userId": "03454406512512790382"
     },
     "user_tz": -120
    },
    "id": "MZP26EW-wuOt",
    "outputId": "5760b8eb-d72e-4406-cbe6-812d6b832766"
   },
   "outputs": [
    {
     "name": "stdout",
     "output_type": "stream",
     "text": [
      "              precision    recall  f1-score   support\n",
      "\n",
      "           0       0.81      0.86      0.83      1000\n",
      "           1       0.99      0.96      0.98      1000\n",
      "           2       0.76      0.79      0.78      1000\n",
      "           3       0.88      0.90      0.89      1000\n",
      "           4       0.76      0.82      0.79      1000\n",
      "           5       0.98      0.96      0.97      1000\n",
      "           6       0.73      0.59      0.65      1000\n",
      "           7       0.93      0.95      0.94      1000\n",
      "           8       0.95      0.97      0.96      1000\n",
      "           9       0.95      0.95      0.95      1000\n",
      "\n",
      "    accuracy                           0.88     10000\n",
      "   macro avg       0.88      0.88      0.87     10000\n",
      "weighted avg       0.88      0.88      0.87     10000\n",
      "\n",
      "[[859   0  11  32   4   1  81   0  12   0]\n",
      " [  2 963   3  23   3   0   4   0   2   0]\n",
      " [ 15   0 790  10 128   0  51   0   6   0]\n",
      " [ 23   3   9 902  33   0  28   0   2   0]\n",
      " [  0   1  97  32 820   0  47   0   3   0]\n",
      " [  0   0   0   1   0 962   0  23   1  13]\n",
      " [159   1 121  26  88   0 588   0  17   0]\n",
      " [  0   0   0   0   0  10   0 953   0  37]\n",
      " [  1   2   5   2   5   2   4   4 973   2]\n",
      " [  0   0   0   0   0   6   0  42   3 949]]\n"
     ]
    }
   ],
   "source": [
    "print(metrics.classification_report(test_labels, label_pred))\n",
    "confusion_matrix = metrics.confusion_matrix(test_labels, label_pred)\n",
    "print(confusion_matrix)"
   ]
  },
  {
   "cell_type": "code",
   "execution_count": 48,
   "metadata": {
    "colab": {
     "base_uri": "https://localhost:8080/"
    },
    "executionInfo": {
     "elapsed": 1688,
     "status": "ok",
     "timestamp": 1602060509831,
     "user": {
      "displayName": "Ricardo Marques Salgado",
      "photoUrl": "",
      "userId": "03454406512512790382"
     },
     "user_tz": -120
    },
    "id": "X372yFyVwuOu",
    "outputId": "23cc2628-9454-4302-d048-801502d3f01c"
   },
   "outputs": [
    {
     "name": "stdout",
     "output_type": "stream",
     "text": [
      "Time:  0:01:58.648314\n"
     ]
    }
   ],
   "source": [
    "print('Time: ',time_taken) "
   ]
  },
  {
   "cell_type": "code",
   "execution_count": 49,
   "metadata": {
    "colab": {
     "base_uri": "https://localhost:8080/",
     "height": 606
    },
    "executionInfo": {
     "elapsed": 2415,
     "status": "ok",
     "timestamp": 1602060513794,
     "user": {
      "displayName": "Ricardo Marques Salgado",
      "photoUrl": "",
      "userId": "03454406512512790382"
     },
     "user_tz": -120
    },
    "id": "zeiaLC9CwuOx",
    "outputId": "5b725e6e-d269-4fb3-99b1-1aec3e6dabaa"
   },
   "outputs": [
    {
     "data": {
      "image/png": "[encoded data removed]",
      "text/plain": [
       "<Figure size 1008x720 with 2 Axes>"
      ]
     },
     "metadata": {
      "needs_background": "light",
      "tags": []
     },
     "output_type": "display_data"
    }
   ],
   "source": [
    "plt.figure(figsize= (14,10))\n",
    "ax=sn.heatmap(confusion_matrix, annot=True,xticklabels = ['T-shirt/Top','Trouser','Pullover','Dress','Coat','Sandal','Shirt','Sneaker','Bag','Ankle Boot'],\n",
    "           yticklabels=['T-shirt/Top','Trouser','Pullover','Dress','Coat','Sandal','Shirt','Sneaker','Bag','Ankle Boot'],cmap = 'mako')\n",
    "ax.set(xlabel='Predicted Class', ylabel='True Class')\n",
    "plt.show()"
   ]
  },
  {
   "cell_type": "markdown",
   "metadata": {
    "id": "csDGbqPEwuO1"
   },
   "source": [
    "Unfortuantely due to the large size of the dataset, there is no reasonable way to visualize the random forest. But just as before, we will make use of cross validation to confirm the results which we have obtained above are indeed correct."
   ]
  },
  {
   "cell_type": "code",
   "execution_count": 50,
   "metadata": {
    "colab": {
     "base_uri": "https://localhost:8080/"
    },
    "executionInfo": {
     "elapsed": 287865,
     "status": "ok",
     "timestamp": 1602060805719,
     "user": {
      "displayName": "Ricardo Marques Salgado",
      "photoUrl": "",
      "userId": "03454406512512790382"
     },
     "user_tz": -120
    },
    "id": "FUgTojGswuO1",
    "outputId": "a50ba0e3-3af2-486c-9a4d-94f7b933295d"
   },
   "outputs": [
    {
     "name": "stdout",
     "output_type": "stream",
     "text": [
      "Validation accuracy for each fold: [0.88017485 0.88599837 0.8786697 ]\n",
      "Average Accuracy:  0.8816143062779161\n"
     ]
    }
   ],
   "source": [
    "cv_results = cross_validate(random_fs, data, target, cv=3)\n",
    "print(f\"Validation accuracy for each fold: {cv_results['test_score']}\")\n",
    "print(f\"Average Accuracy:  {np.mean(cv_results['test_score'])}\")"
   ]
  },
  {
   "cell_type": "code",
   "execution_count": 51,
   "metadata": {},
   "outputs": [
    {
     "data": {
      "text/plain": [
       "['Final_RF.sav']"
      ]
     },
     "execution_count": 51,
     "metadata": {},
     "output_type": "execute_result"
    }
   ],
   "source": [
    "filename = 'Final_RF.sav'\n",
    "joblib.dump(random_fs, filename)"
   ]
  },
  {
   "cell_type": "markdown",
   "metadata": {
    "id": "iUQUJTB3wuO3"
   },
   "source": [
    "# Support Vector Machine"
   ]
  },
  {
   "cell_type": "markdown",
   "metadata": {
    "id": "cvW3NmM4wuO3"
   },
   "source": [
    "The idea here is now to fit a support vector machine to the data."
   ]
  },
  {
   "cell_type": "code",
   "execution_count": 52,
   "metadata": {
    "executionInfo": {
     "elapsed": 1437,
     "status": "ok",
     "timestamp": 1602069671179,
     "user": {
      "displayName": "Ricardo Marques Salgado",
      "photoUrl": "",
      "userId": "03454406512512790382"
     },
     "user_tz": -120
    },
    "id": "f5jy-tEkVmOW"
   },
   "outputs": [],
   "source": [
    "svc = SVC(gamma='scale', kernel='rbf', C=8)"
   ]
  },
  {
   "cell_type": "code",
   "execution_count": 53,
   "metadata": {
    "executionInfo": {
     "elapsed": 651036,
     "status": "ok",
     "timestamp": 1602070322947,
     "user": {
      "displayName": "Ricardo Marques Salgado",
      "photoUrl": "",
      "userId": "03454406512512790382"
     },
     "user_tz": -120
    },
    "id": "dddV_0uCVqKA"
   },
   "outputs": [],
   "source": [
    "start = datetime.now()\n",
    "svm = svc.fit(train_x, train_labels)\n",
    "end = datetime.now()\n",
    "time_taken = end - start"
   ]
  },
  {
   "cell_type": "markdown",
   "metadata": {
    "id": "sjlDtXqbWSv5"
   },
   "source": [
    "Having fitted the model, the model is now evaluated."
   ]
  },
  {
   "cell_type": "code",
   "execution_count": 21,
   "metadata": {
    "executionInfo": {
     "elapsed": 886360,
     "status": "ok",
     "timestamp": 1602070559181,
     "user": {
      "displayName": "Ricardo Marques Salgado",
      "photoUrl": "",
      "userId": "03454406512512790382"
     },
     "user_tz": -120
    },
    "id": "2-rmKG6OWVXn"
   },
   "outputs": [],
   "source": [
    "label_pred = svc.predict(test_x)"
   ]
  },
  {
   "cell_type": "code",
   "execution_count": 22,
   "metadata": {
    "colab": {
     "base_uri": "https://localhost:8080/"
    },
    "executionInfo": {
     "elapsed": 885949,
     "status": "ok",
     "timestamp": 1602070559181,
     "user": {
      "displayName": "Ricardo Marques Salgado",
      "photoUrl": "",
      "userId": "03454406512512790382"
     },
     "user_tz": -120
    },
    "id": "Jx5MG0GrWYAX",
    "outputId": "56757206-d71f-4d9a-de1c-37eec96adc2e"
   },
   "outputs": [
    {
     "name": "stdout",
     "output_type": "stream",
     "text": [
      "              precision    recall  f1-score   support\n",
      "\n",
      "           0       0.83      0.86      0.85      1000\n",
      "           1       0.99      0.97      0.98      1000\n",
      "           2       0.81      0.84      0.82      1000\n",
      "           3       0.90      0.91      0.90      1000\n",
      "           4       0.84      0.83      0.84      1000\n",
      "           5       0.97      0.97      0.97      1000\n",
      "           6       0.75      0.71      0.73      1000\n",
      "           7       0.95      0.96      0.96      1000\n",
      "           8       0.98      0.98      0.98      1000\n",
      "           9       0.97      0.96      0.97      1000\n",
      "\n",
      "    accuracy                           0.90     10000\n",
      "   macro avg       0.90      0.90      0.90     10000\n",
      "weighted avg       0.90      0.90      0.90     10000\n",
      "\n",
      "[[859   0  12  22   5   1  95   0   6   0]\n",
      " [  2 973   1  18   2   0   4   0   0   0]\n",
      " [ 20   2 836  11  74   0  56   0   1   0]\n",
      " [ 27   3  14 908  25   0  18   0   5   0]\n",
      " [  0   1  86  21 834   0  57   0   1   0]\n",
      " [  0   0   0   1   0 974   0  17   1   7]\n",
      " [121   1  79  25  53   0 714   0   7   0]\n",
      " [  0   0   0   0   0  17   0 964   0  19]\n",
      " [  3   1   1   3   4   2   3   3 980   0]\n",
      " [  0   0   0   0   0   8   1  32   0 959]]\n"
     ]
    }
   ],
   "source": [
    "print(metrics.classification_report(test_labels, label_pred))\n",
    "confusion_matrix = metrics.confusion_matrix(test_labels, label_pred)\n",
    "print(confusion_matrix)"
   ]
  },
  {
   "cell_type": "code",
   "execution_count": 23,
   "metadata": {
    "colab": {
     "base_uri": "https://localhost:8080/"
    },
    "executionInfo": {
     "elapsed": 883286,
     "status": "ok",
     "timestamp": 1602070559182,
     "user": {
      "displayName": "Ricardo Marques Salgado",
      "photoUrl": "",
      "userId": "03454406512512790382"
     },
     "user_tz": -120
    },
    "id": "KIf7KDgrWap6",
    "outputId": "795dde1e-cb40-4906-83d9-768f8c65fa8c"
   },
   "outputs": [
    {
     "name": "stdout",
     "output_type": "stream",
     "text": [
      "Time:  0:06:45.642614\n"
     ]
    }
   ],
   "source": [
    "print('Time: ',time_taken) "
   ]
  },
  {
   "cell_type": "code",
   "execution_count": 24,
   "metadata": {
    "colab": {
     "base_uri": "https://localhost:8080/",
     "height": 606
    },
    "executionInfo": {
     "elapsed": 863872,
     "status": "ok",
     "timestamp": 1602070559182,
     "user": {
      "displayName": "Ricardo Marques Salgado",
      "photoUrl": "",
      "userId": "03454406512512790382"
     },
     "user_tz": -120
    },
    "id": "mPlBdQV1Wc96",
    "outputId": "668f6fb3-6c8c-4f5d-ef09-1bb298eb1808"
   },
   "outputs": [
    {
     "data": {
      "image/png": "[encoded data removed]",
      "text/plain": [
       "<Figure size 1008x720 with 2 Axes>"
      ]
     },
     "metadata": {
      "needs_background": "light"
     },
     "output_type": "display_data"
    }
   ],
   "source": [
    "plt.figure(figsize= (14,10))\n",
    "ax=sn.heatmap(confusion_matrix, annot=True,xticklabels = ['T-shirt/Top','Trouser','Pullover','Dress','Coat','Sandal','Shirt','Sneaker','Bag','Ankle Boot'],\n",
    "           yticklabels=['T-shirt/Top','Trouser','Pullover','Dress','Coat','Sandal','Shirt','Sneaker','Bag','Ankle Boot'],cmap = 'mako')\n",
    "ax.set(xlabel='Predicted Class', ylabel='True Class')\n",
    "plt.show()"
   ]
  },
  {
   "cell_type": "markdown",
   "metadata": {},
   "source": [
    "Once again we perform K-fold cross validation to ensure that the results obtained can be trusted."
   ]
  },
  {
   "cell_type": "code",
   "execution_count": 25,
   "metadata": {
    "id": "7pkIdEjVWjgf"
   },
   "outputs": [
    {
     "name": "stdout",
     "output_type": "stream",
     "text": [
      "Validation accuracy for each fold: [0.90233136 0.90558437 0.89799854]\n",
      "Mean accuracy:  0.9019714234294497\n"
     ]
    }
   ],
   "source": [
    "cv_results = cross_validate(svc, data, target, cv=3  )\n",
    "print(f\"Validation accuracy for each fold: {cv_results['test_score']}\")\n",
    "print(f\"Mean accuracy:  {np.mean(cv_results['test_score'])}\")"
   ]
  },
  {
   "cell_type": "code",
   "execution_count": 55,
   "metadata": {},
   "outputs": [
    {
     "data": {
      "text/plain": [
       "['Final_SVM.h5']"
      ]
     },
     "execution_count": 55,
     "metadata": {},
     "output_type": "execute_result"
    }
   ],
   "source": [
    "filename = 'Final_SVM.sav'\n",
    "joblib.dump(svc, filename)"
   ]
  },
  {
   "cell_type": "markdown",
   "metadata": {
    "id": "YMvj2IBywuO3"
   },
   "source": [
    "# Convolutional Neural Network"
   ]
  },
  {
   "cell_type": "markdown",
   "metadata": {
    "id": "M9_EUBJmwuO4"
   },
   "source": [
    "The approach here is slightly more involved, and requires the definition of our own CNN model."
   ]
  },
  {
   "cell_type": "code",
   "execution_count": 4,
   "metadata": {},
   "outputs": [],
   "source": [
    "import collections\n",
    "from sklearn import preprocessing\n",
    "from sklearn.decomposition import PCA\n",
    "from IPython.display import Markdown, display\n",
    "import random\n",
    " \n",
    "from keras.utils import to_categorical\n",
    "from sklearn.model_selection import train_test_split\n",
    "\n",
    "from keras.layers.normalization import BatchNormalization\n",
    "import keras\n",
    "from tensorflow.keras.models import Sequential\n",
    "from tensorflow.keras.layers import Dense, Dropout, LeakyReLU, Flatten, Conv2D, MaxPooling2D, BatchNormalization, Input, UpSampling2D, GlobalAveragePooling2D\n",
    "from tensorflow.keras.callbacks import EarlyStopping, ModelCheckpoint\n",
    "from tensorflow.keras.preprocessing.image import ImageDataGenerator\n",
    "from tensorflow.keras import optimizers, regularizers\n",
    "from sklearn import metrics\n",
    "from tensorflow.keras.optimizers import Adam, SGD\n",
    "from tensorflow.keras.models import Model, load_model "
   ]
  },
  {
   "cell_type": "code",
   "execution_count": 5,
   "metadata": {},
   "outputs": [],
   "source": [
    "# Importing the train and test datasets\n",
    "data_train = pd.read_csv(r\"fashion-mnist_train.csv\")\n",
    "data_test = pd.read_csv(r\"fashion-mnist_test.csv\")\n",
    "\n",
    "# Defining image dimensions\n",
    "img_rows, img_cols = 28, 28\n",
    "input_shape = (img_rows, img_cols, 1)\n",
    "\n",
    "# Selecting the applicable values from the train dataset\n",
    "X = np.array(data_train.iloc[:, 1:]) # All rows, columns starting from 1 till the end\n",
    "y = to_categorical(np.array(data_train.iloc[:, 0])) # All rows, selecting column 0 and ensuring that it is categorical data\n",
    "\n",
    "# Here we split data to train using 80% for training and 20% for testing\n",
    "# Random state just ensure that the randomization is consistent with each run\n",
    "X_train, X_val, y_train, y_val = train_test_split(X, y, test_size=0.2, random_state=13)\n",
    "\n",
    "# Test data\n",
    "X_test = np.array(data_test.iloc[:, 1:])\n",
    "y_test = to_categorical(np.array(data_test.iloc[:, 0]))\n",
    "\n",
    "# Reshaping the input to 4D for the CNN model\n",
    "X_train = X_train.reshape(X_train.shape[0], img_rows, img_cols, 1)\n",
    "X_test = X_test.reshape(X_test.shape[0], img_rows, img_cols, 1)\n",
    "X_val = X_val.reshape(X_val.shape[0], img_rows, img_cols, 1)\n",
    "\n",
    "# Normalizing the data\n",
    "# Converting the pixel values to the range [0,1]\n",
    "X_train = X_train.astype('float32')\n",
    "X_test = X_test.astype('float32')\n",
    "X_val = X_val.astype('float32')\n",
    "X_train /= 255 # Dividing by 255 since each of the pixel values lie between [0,255]\n",
    "X_test /= 255\n",
    "X_val /= 255"
   ]
  },
  {
   "cell_type": "code",
   "execution_count": 6,
   "metadata": {
    "id": "AuTo-2XtwuO4"
   },
   "outputs": [],
   "source": [
    "#checkpointer = ModelCheckpoint(filepath=\"save/cnn_mnist.hdf5\", verbose=0, save_best_only=True) # Save best model\n",
    "\n",
    "batch_size = 128 # This will imply that 48000 / 128 = 375 batch sample during testing\n",
    "num_classes = 10 # Since the labels are from 0 - 9\n",
    "epochs = 50 # this is the number of times the model goes through the training set. The model is updated after each batch size is processed.\n",
    "\n",
    "model = Sequential() # Sequential allows us to create model layers to fit\n",
    "\n",
    "# Block 1 of model\n",
    "# Initial weights of the filter matrix is assigned according to the normal distribution\n",
    "model.add(Conv2D(32, kernel_size=(3, 3),\n",
    "                 kernel_initializer='he_normal',\n",
    "                 input_shape=input_shape))\n",
    "model.add(LeakyReLU())\n",
    "model.add(MaxPooling2D((2, 2)))\n",
    "model.add(Dropout(0.35))\n",
    "\n",
    "# Block 2 of model\n",
    "model.add(Conv2D(64, (3, 3)))\n",
    "model.add(LeakyReLU())\n",
    "model.add(MaxPooling2D(pool_size=(2, 2)))\n",
    "model.add(Dropout(0.40))\n",
    "\n",
    "# Flatting of the model\n",
    "# Basically reshapes the tensor to have the shape that is equal to the number of elements contained in tensor non including the batch dimension\n",
    "model.add(Conv2D(128, (3, 3)))\n",
    "model.add(LeakyReLU())\n",
    "model.add(Dropout(0.45))\n",
    "model.add(Flatten())\n",
    "\n",
    "# The Dense layers and the output layers of the model\n",
    "model.add(Dense(128, activation='relu'))\n",
    "model.add(Dropout(0.45))\n",
    "\n",
    "# Notice that the output layer has 10 neurons\n",
    "# Softmax ensures that the sum of outputs is 1 i.e., they are probabilities. \n",
    "# Similar to sigmoid however we have more than 2 classes, therefore softmax is better.\n",
    "model.add(Dense(num_classes, activation='softmax'))\n",
    "\n",
    "monitor = EarlyStopping(monitor='val_loss', min_delta=1e-3, patience=5, verbose=1, mode='auto')\n",
    "\n",
    "learning_rate = 0.001\n",
    "\n",
    "# loss = categorical_crossentropy, since it is used for Multi-class classification\n",
    "model.compile(loss=\"categorical_crossentropy\", optimizer=Adam(lr=learning_rate), metrics=['accuracy'])\n"
   ]
  },
  {
   "cell_type": "code",
   "execution_count": 7,
   "metadata": {},
   "outputs": [
    {
     "name": "stdout",
     "output_type": "stream",
     "text": [
      "Model: \"sequential\"\n",
      "_________________________________________________________________\n",
      "Layer (type)                 Output Shape              Param #   \n",
      "=================================================================\n",
      "conv2d (Conv2D)              (None, 26, 26, 32)        320       \n",
      "_________________________________________________________________\n",
      "leaky_re_lu (LeakyReLU)      (None, 26, 26, 32)        0         \n",
      "_________________________________________________________________\n",
      "max_pooling2d (MaxPooling2D) (None, 13, 13, 32)        0         \n",
      "_________________________________________________________________\n",
      "dropout (Dropout)            (None, 13, 13, 32)        0         \n",
      "_________________________________________________________________\n",
      "conv2d_1 (Conv2D)            (None, 11, 11, 64)        18496     \n",
      "_________________________________________________________________\n",
      "leaky_re_lu_1 (LeakyReLU)    (None, 11, 11, 64)        0         \n",
      "_________________________________________________________________\n",
      "max_pooling2d_1 (MaxPooling2 (None, 5, 5, 64)          0         \n",
      "_________________________________________________________________\n",
      "dropout_1 (Dropout)          (None, 5, 5, 64)          0         \n",
      "_________________________________________________________________\n",
      "conv2d_2 (Conv2D)            (None, 3, 3, 128)         73856     \n",
      "_________________________________________________________________\n",
      "leaky_re_lu_2 (LeakyReLU)    (None, 3, 3, 128)         0         \n",
      "_________________________________________________________________\n",
      "dropout_2 (Dropout)          (None, 3, 3, 128)         0         \n",
      "_________________________________________________________________\n",
      "flatten (Flatten)            (None, 1152)              0         \n",
      "_________________________________________________________________\n",
      "dense (Dense)                (None, 128)               147584    \n",
      "_________________________________________________________________\n",
      "dropout_3 (Dropout)          (None, 128)               0         \n",
      "_________________________________________________________________\n",
      "dense_1 (Dense)              (None, 10)                1290      \n",
      "=================================================================\n",
      "Total params: 241,546\n",
      "Trainable params: 241,546\n",
      "Non-trainable params: 0\n",
      "_________________________________________________________________\n"
     ]
    }
   ],
   "source": [
    "model.summary()"
   ]
  },
  {
   "cell_type": "code",
   "execution_count": 8,
   "metadata": {},
   "outputs": [
    {
     "name": "stdout",
     "output_type": "stream",
     "text": [
      "Epoch 1/50\n",
      "375/375 - 19s - loss: 0.7811 - accuracy: 0.7113 - val_loss: 0.4953 - val_accuracy: 0.8127\n",
      "Epoch 2/50\n",
      "375/375 - 19s - loss: 0.5000 - accuracy: 0.8196 - val_loss: 0.3697 - val_accuracy: 0.8657\n",
      "Epoch 3/50\n",
      "375/375 - 19s - loss: 0.4330 - accuracy: 0.8429 - val_loss: 0.3612 - val_accuracy: 0.8669\n",
      "Epoch 4/50\n",
      "375/375 - 19s - loss: 0.4011 - accuracy: 0.8543 - val_loss: 0.3355 - val_accuracy: 0.8745\n",
      "Epoch 5/50\n",
      "375/375 - 19s - loss: 0.3885 - accuracy: 0.8591 - val_loss: 0.3177 - val_accuracy: 0.8816\n",
      "Epoch 6/50\n",
      "375/375 - 19s - loss: 0.3734 - accuracy: 0.8640 - val_loss: 0.3060 - val_accuracy: 0.8859\n",
      "Epoch 7/50\n",
      "375/375 - 19s - loss: 0.3665 - accuracy: 0.8669 - val_loss: 0.3067 - val_accuracy: 0.8842\n",
      "Epoch 8/50\n",
      "375/375 - 19s - loss: 0.3544 - accuracy: 0.8718 - val_loss: 0.3011 - val_accuracy: 0.8852\n",
      "Epoch 9/50\n",
      "375/375 - 19s - loss: 0.3503 - accuracy: 0.8729 - val_loss: 0.2925 - val_accuracy: 0.8921\n",
      "Epoch 10/50\n",
      "375/375 - 19s - loss: 0.3446 - accuracy: 0.8749 - val_loss: 0.2882 - val_accuracy: 0.8938\n",
      "Epoch 11/50\n",
      "375/375 - 19s - loss: 0.3368 - accuracy: 0.8780 - val_loss: 0.2917 - val_accuracy: 0.8914\n",
      "Epoch 12/50\n",
      "375/375 - 19s - loss: 0.3345 - accuracy: 0.8768 - val_loss: 0.2776 - val_accuracy: 0.8978\n",
      "Epoch 13/50\n",
      "375/375 - 19s - loss: 0.3280 - accuracy: 0.8806 - val_loss: 0.2729 - val_accuracy: 0.9008\n",
      "Epoch 14/50\n",
      "375/375 - 18s - loss: 0.3294 - accuracy: 0.8791 - val_loss: 0.2720 - val_accuracy: 0.9007\n",
      "Epoch 15/50\n",
      "375/375 - 19s - loss: 0.3235 - accuracy: 0.8818 - val_loss: 0.2782 - val_accuracy: 0.8978\n",
      "Epoch 16/50\n",
      "375/375 - 19s - loss: 0.3212 - accuracy: 0.8826 - val_loss: 0.2757 - val_accuracy: 0.9003\n",
      "Epoch 17/50\n",
      "375/375 - 19s - loss: 0.3217 - accuracy: 0.8820 - val_loss: 0.2749 - val_accuracy: 0.8971\n",
      "Epoch 18/50\n",
      "375/375 - 19s - loss: 0.3204 - accuracy: 0.8857 - val_loss: 0.2745 - val_accuracy: 0.8973\n",
      "Epoch 19/50\n",
      "375/375 - 20s - loss: 0.3152 - accuracy: 0.8840 - val_loss: 0.2860 - val_accuracy: 0.8932\n",
      "Epoch 20/50\n",
      "375/375 - 20s - loss: 0.3171 - accuracy: 0.8840 - val_loss: 0.2720 - val_accuracy: 0.8983\n",
      "Epoch 21/50\n",
      "375/375 - 19s - loss: 0.3147 - accuracy: 0.8849 - val_loss: 0.2694 - val_accuracy: 0.8998\n",
      "Epoch 22/50\n",
      "375/375 - 18s - loss: 0.3101 - accuracy: 0.8859 - val_loss: 0.2710 - val_accuracy: 0.8982\n",
      "Epoch 23/50\n",
      "375/375 - 19s - loss: 0.3098 - accuracy: 0.8860 - val_loss: 0.2600 - val_accuracy: 0.9036\n",
      "Epoch 24/50\n",
      "375/375 - 18s - loss: 0.3136 - accuracy: 0.8847 - val_loss: 0.2576 - val_accuracy: 0.9050\n",
      "Epoch 25/50\n",
      "375/375 - 19s - loss: 0.3019 - accuracy: 0.8893 - val_loss: 0.2643 - val_accuracy: 0.9032\n",
      "Epoch 26/50\n",
      "375/375 - 19s - loss: 0.3084 - accuracy: 0.8861 - val_loss: 0.2562 - val_accuracy: 0.9049\n",
      "Epoch 27/50\n",
      "375/375 - 19s - loss: 0.3048 - accuracy: 0.8871 - val_loss: 0.2728 - val_accuracy: 0.8982\n",
      "Epoch 28/50\n",
      "375/375 - 19s - loss: 0.2979 - accuracy: 0.8906 - val_loss: 0.2509 - val_accuracy: 0.9072\n",
      "Epoch 29/50\n",
      "375/375 - 19s - loss: 0.2996 - accuracy: 0.8898 - val_loss: 0.2670 - val_accuracy: 0.9028\n",
      "Epoch 30/50\n",
      "375/375 - 19s - loss: 0.3035 - accuracy: 0.8882 - val_loss: 0.2561 - val_accuracy: 0.9082\n",
      "Epoch 31/50\n",
      "375/375 - 19s - loss: 0.2995 - accuracy: 0.8891 - val_loss: 0.2611 - val_accuracy: 0.9075\n",
      "Epoch 32/50\n",
      "375/375 - 18s - loss: 0.3009 - accuracy: 0.8902 - val_loss: 0.2566 - val_accuracy: 0.9046\n",
      "Epoch 33/50\n",
      "375/375 - 18s - loss: 0.2967 - accuracy: 0.8892 - val_loss: 0.2587 - val_accuracy: 0.9047\n",
      "Epoch 34/50\n",
      "375/375 - 20s - loss: 0.3022 - accuracy: 0.8889 - val_loss: 0.2638 - val_accuracy: 0.9005\n",
      "Epoch 35/50\n",
      "375/375 - 20s - loss: 0.2953 - accuracy: 0.8910 - val_loss: 0.2521 - val_accuracy: 0.9085\n",
      "Epoch 36/50\n",
      "375/375 - 20s - loss: 0.2985 - accuracy: 0.8914 - val_loss: 0.2511 - val_accuracy: 0.9105\n",
      "Epoch 37/50\n",
      "375/375 - 21s - loss: 0.2968 - accuracy: 0.8898 - val_loss: 0.2499 - val_accuracy: 0.9085\n",
      "Epoch 38/50\n",
      "375/375 - 20s - loss: 0.2941 - accuracy: 0.8917 - val_loss: 0.2509 - val_accuracy: 0.9083\n",
      "Epoch 39/50\n",
      "375/375 - 19s - loss: 0.2906 - accuracy: 0.8915 - val_loss: 0.2509 - val_accuracy: 0.9085\n",
      "Epoch 40/50\n",
      "375/375 - 19s - loss: 0.2941 - accuracy: 0.8929 - val_loss: 0.2593 - val_accuracy: 0.9047\n",
      "Epoch 41/50\n",
      "375/375 - 20s - loss: 0.2920 - accuracy: 0.8925 - val_loss: 0.2586 - val_accuracy: 0.9048\n",
      "Epoch 42/50\n",
      "375/375 - 20s - loss: 0.2909 - accuracy: 0.8932 - val_loss: 0.2575 - val_accuracy: 0.9032\n",
      "Epoch 43/50\n",
      "375/375 - 22s - loss: 0.2923 - accuracy: 0.8924 - val_loss: 0.2613 - val_accuracy: 0.9018\n",
      "Epoch 44/50\n",
      "375/375 - 22s - loss: 0.2882 - accuracy: 0.8947 - val_loss: 0.2481 - val_accuracy: 0.9095\n",
      "Epoch 45/50\n",
      "375/375 - 19s - loss: 0.2959 - accuracy: 0.8923 - val_loss: 0.2585 - val_accuracy: 0.9064\n",
      "Epoch 46/50\n",
      "375/375 - 20s - loss: 0.2919 - accuracy: 0.8917 - val_loss: 0.2579 - val_accuracy: 0.9078\n",
      "Epoch 47/50\n",
      "375/375 - 20s - loss: 0.2883 - accuracy: 0.8938 - val_loss: 0.2593 - val_accuracy: 0.9032\n",
      "Epoch 48/50\n",
      "375/375 - 20s - loss: 0.2919 - accuracy: 0.8948 - val_loss: 0.2566 - val_accuracy: 0.9053\n",
      "Epoch 49/50\n",
      "375/375 - 20s - loss: 0.2880 - accuracy: 0.8938 - val_loss: 0.2504 - val_accuracy: 0.9082\n",
      "Epoch 50/50\n",
      "375/375 - 19s - loss: 0.2880 - accuracy: 0.8948 - val_loss: 0.2610 - val_accuracy: 0.9028\n"
     ]
    }
   ],
   "source": [
    "start = datetime.now()\n",
    "\n",
    "history = model.fit(X_train, y_train,\n",
    "          batch_size=batch_size,\n",
    "          epochs=epochs,\n",
    "          verbose=2,\n",
    "          validation_data=(X_val, y_val))\n",
    "\n",
    "end = datetime.now()\n",
    "time_taken = end - start"
   ]
  },
  {
   "cell_type": "code",
   "execution_count": 9,
   "metadata": {},
   "outputs": [
    {
     "name": "stdout",
     "output_type": "stream",
     "text": [
      "Test accuracy: 0.9072999954223633\n"
     ]
    }
   ],
   "source": [
    "score = model.evaluate(X_test, y_test, verbose=0)\n",
    "print('Test accuracy:', score[1])"
   ]
  },
  {
   "cell_type": "code",
   "execution_count": 27,
   "metadata": {},
   "outputs": [],
   "source": [
    "label_pred = model.predict(X_test)\n",
    "label_pred = np.argmax(label_pred,axis=1)\n",
    "y_true = np.argmax(y_test,axis=1)"
   ]
  },
  {
   "cell_type": "code",
   "execution_count": 28,
   "metadata": {},
   "outputs": [
    {
     "name": "stdout",
     "output_type": "stream",
     "text": [
      "              precision    recall  f1-score   support\n",
      "\n",
      "           0       0.87      0.84      0.86      1000\n",
      "           1       0.99      0.99      0.99      1000\n",
      "           2       0.90      0.83      0.86      1000\n",
      "           3       0.90      0.94      0.92      1000\n",
      "           4       0.83      0.91      0.86      1000\n",
      "           5       0.99      0.96      0.98      1000\n",
      "           6       0.77      0.76      0.76      1000\n",
      "           7       0.95      0.96      0.96      1000\n",
      "           8       0.98      0.98      0.98      1000\n",
      "           9       0.96      0.97      0.97      1000\n",
      "\n",
      "    accuracy                           0.91     10000\n",
      "   macro avg       0.91      0.91      0.91     10000\n",
      "weighted avg       0.91      0.91      0.91     10000\n",
      "\n",
      "[[845   0  19  22   2   0 103   1   8   0]\n",
      " [  0 987   1  10   0   0   2   0   0   0]\n",
      " [ 17   0 830  13 103   0  36   0   1   0]\n",
      " [  9   2   7 939  25   0  18   0   0   0]\n",
      " [  0   0  15  24 906   0  55   0   0   0]\n",
      " [  0   1   0   0   0 962   0  27   1   9]\n",
      " [103   2  48  32  55   0 755   0   5   0]\n",
      " [  0   0   0   0   0   2   0 965   0  33]\n",
      " [  2   1   4   0   4   2   6   1 978   2]\n",
      " [  0   0   0   0   0   1   0  25   0 974]]\n"
     ]
    }
   ],
   "source": [
    "print(metrics.classification_report(y_true, label_pred))\n",
    "confusion_matrix = metrics.confusion_matrix(y_true, label_pred)\n",
    "print(confusion_matrix)"
   ]
  },
  {
   "cell_type": "code",
   "execution_count": 15,
   "metadata": {},
   "outputs": [
    {
     "name": "stdout",
     "output_type": "stream",
     "text": [
      "Time:  0:16:08.455133\n"
     ]
    }
   ],
   "source": [
    "print('Time: ',time_taken) "
   ]
  },
  {
   "cell_type": "code",
   "execution_count": 29,
   "metadata": {},
   "outputs": [
    {
     "data": {
      "image/png": "[encoded data removed]",
      "text/plain": [
       "<Figure size 1008x720 with 2 Axes>"
      ]
     },
     "metadata": {
      "needs_background": "light"
     },
     "output_type": "display_data"
    }
   ],
   "source": [
    "plt.figure(figsize= (14,10))\n",
    "ax=sn.heatmap(confusion_matrix, annot=True,xticklabels = ['T-shirt/Top','Trouser','Pullover','Dress','Coat','Sandal','Shirt','Sneaker','Bag','Ankle Boot'],\n",
    "           yticklabels=['T-shirt/Top','Trouser','Pullover','Dress','Coat','Sandal','Shirt','Sneaker','Bag','Ankle Boot'],cmap = 'mako')\n",
    "ax.set(xlabel='Predicted Class', ylabel='True Class')\n",
    "plt.show()"
   ]
  },
  {
   "cell_type": "code",
   "execution_count": 13,
   "metadata": {},
   "outputs": [
    {
     "name": "stdout",
     "output_type": "stream",
     "text": [
      "WARNING:tensorflow:From C:\\Users\\danie\\anaconda3\\lib\\site-packages\\tensorflow\\python\\training\\tracking\\tracking.py:111: Model.state_updates (from tensorflow.python.keras.engine.training) is deprecated and will be removed in a future version.\n",
      "Instructions for updating:\n",
      "This property should not be used in TensorFlow 2.0, as updates are applied automatically.\n",
      "WARNING:tensorflow:From C:\\Users\\danie\\anaconda3\\lib\\site-packages\\tensorflow\\python\\training\\tracking\\tracking.py:111: Layer.updates (from tensorflow.python.keras.engine.base_layer) is deprecated and will be removed in a future version.\n",
      "Instructions for updating:\n",
      "This property should not be used in TensorFlow 2.0, as updates are applied automatically.\n",
      "INFO:tensorflow:Assets written to: Final_CNN\\assets\n"
     ]
    }
   ],
   "source": [
    "model.save(\"Final_CNN\")"
   ]
  },
  {
   "cell_type": "code",
   "execution_count": 14,
   "metadata": {},
   "outputs": [
    {
     "data": {
      "text/plain": [
       "array([[[[0.        ],\n",
       "         [0.        ],\n",
       "         [0.        ],\n",
       "         ...,\n",
       "         [0.        ],\n",
       "         [0.        ],\n",
       "         [0.        ]],\n",
       "\n",
       "        [[0.        ],\n",
       "         [0.        ],\n",
       "         [0.01568628],\n",
       "         ...,\n",
       "         [0.        ],\n",
       "         [0.        ],\n",
       "         [0.        ]],\n",
       "\n",
       "        [[0.        ],\n",
       "         [0.        ],\n",
       "         [0.00392157],\n",
       "         ...,\n",
       "         [0.        ],\n",
       "         [0.        ],\n",
       "         [0.        ]],\n",
       "\n",
       "        ...,\n",
       "\n",
       "        [[0.        ],\n",
       "         [0.        ],\n",
       "         [0.        ],\n",
       "         ...,\n",
       "         [0.        ],\n",
       "         [0.        ],\n",
       "         [0.        ]],\n",
       "\n",
       "        [[0.        ],\n",
       "         [0.        ],\n",
       "         [0.        ],\n",
       "         ...,\n",
       "         [0.        ],\n",
       "         [0.        ],\n",
       "         [0.        ]],\n",
       "\n",
       "        [[0.        ],\n",
       "         [0.        ],\n",
       "         [0.        ],\n",
       "         ...,\n",
       "         [0.        ],\n",
       "         [0.        ],\n",
       "         [0.        ]]],\n",
       "\n",
       "\n",
       "       [[[0.        ],\n",
       "         [0.        ],\n",
       "         [0.        ],\n",
       "         ...,\n",
       "         [0.        ],\n",
       "         [0.        ],\n",
       "         [0.        ]],\n",
       "\n",
       "        [[0.        ],\n",
       "         [0.        ],\n",
       "         [0.        ],\n",
       "         ...,\n",
       "         [0.        ],\n",
       "         [0.        ],\n",
       "         [0.        ]],\n",
       "\n",
       "        [[0.        ],\n",
       "         [0.        ],\n",
       "         [0.        ],\n",
       "         ...,\n",
       "         [0.        ],\n",
       "         [0.        ],\n",
       "         [0.        ]],\n",
       "\n",
       "        ...,\n",
       "\n",
       "        [[0.        ],\n",
       "         [0.        ],\n",
       "         [0.        ],\n",
       "         ...,\n",
       "         [0.        ],\n",
       "         [0.        ],\n",
       "         [0.        ]],\n",
       "\n",
       "        [[0.        ],\n",
       "         [0.        ],\n",
       "         [0.        ],\n",
       "         ...,\n",
       "         [0.        ],\n",
       "         [0.        ],\n",
       "         [0.        ]],\n",
       "\n",
       "        [[0.        ],\n",
       "         [0.        ],\n",
       "         [0.        ],\n",
       "         ...,\n",
       "         [0.        ],\n",
       "         [0.        ],\n",
       "         [0.        ]]],\n",
       "\n",
       "\n",
       "       [[[0.        ],\n",
       "         [0.        ],\n",
       "         [0.        ],\n",
       "         ...,\n",
       "         [0.        ],\n",
       "         [0.        ],\n",
       "         [0.        ]],\n",
       "\n",
       "        [[0.        ],\n",
       "         [0.        ],\n",
       "         [0.        ],\n",
       "         ...,\n",
       "         [0.        ],\n",
       "         [0.        ],\n",
       "         [0.        ]],\n",
       "\n",
       "        [[0.        ],\n",
       "         [0.        ],\n",
       "         [0.        ],\n",
       "         ...,\n",
       "         [0.        ],\n",
       "         [0.        ],\n",
       "         [0.        ]],\n",
       "\n",
       "        ...,\n",
       "\n",
       "        [[0.        ],\n",
       "         [0.        ],\n",
       "         [0.        ],\n",
       "         ...,\n",
       "         [0.        ],\n",
       "         [0.        ],\n",
       "         [0.        ]],\n",
       "\n",
       "        [[0.        ],\n",
       "         [0.        ],\n",
       "         [0.        ],\n",
       "         ...,\n",
       "         [0.        ],\n",
       "         [0.        ],\n",
       "         [0.        ]],\n",
       "\n",
       "        [[0.        ],\n",
       "         [0.        ],\n",
       "         [0.        ],\n",
       "         ...,\n",
       "         [0.        ],\n",
       "         [0.        ],\n",
       "         [0.        ]]],\n",
       "\n",
       "\n",
       "       ...,\n",
       "\n",
       "\n",
       "       [[[0.        ],\n",
       "         [0.        ],\n",
       "         [0.        ],\n",
       "         ...,\n",
       "         [0.        ],\n",
       "         [0.        ],\n",
       "         [0.        ]],\n",
       "\n",
       "        [[0.        ],\n",
       "         [0.        ],\n",
       "         [0.        ],\n",
       "         ...,\n",
       "         [0.        ],\n",
       "         [0.        ],\n",
       "         [0.        ]],\n",
       "\n",
       "        [[0.        ],\n",
       "         [0.        ],\n",
       "         [0.        ],\n",
       "         ...,\n",
       "         [0.        ],\n",
       "         [0.        ],\n",
       "         [0.        ]],\n",
       "\n",
       "        ...,\n",
       "\n",
       "        [[0.        ],\n",
       "         [0.        ],\n",
       "         [0.01176471],\n",
       "         ...,\n",
       "         [0.        ],\n",
       "         [0.        ],\n",
       "         [0.        ]],\n",
       "\n",
       "        [[0.        ],\n",
       "         [0.        ],\n",
       "         [0.00784314],\n",
       "         ...,\n",
       "         [0.        ],\n",
       "         [0.        ],\n",
       "         [0.        ]],\n",
       "\n",
       "        [[0.        ],\n",
       "         [0.        ],\n",
       "         [0.        ],\n",
       "         ...,\n",
       "         [0.        ],\n",
       "         [0.00392157],\n",
       "         [0.        ]]],\n",
       "\n",
       "\n",
       "       [[[0.        ],\n",
       "         [0.00392157],\n",
       "         [0.01176471],\n",
       "         ...,\n",
       "         [0.        ],\n",
       "         [0.00784314],\n",
       "         [0.        ]],\n",
       "\n",
       "        [[0.        ],\n",
       "         [0.        ],\n",
       "         [0.        ],\n",
       "         ...,\n",
       "         [0.        ],\n",
       "         [0.        ],\n",
       "         [0.        ]],\n",
       "\n",
       "        [[0.        ],\n",
       "         [0.        ],\n",
       "         [0.45490196],\n",
       "         ...,\n",
       "         [0.78431374],\n",
       "         [0.11372549],\n",
       "         [0.        ]],\n",
       "\n",
       "        ...,\n",
       "\n",
       "        [[0.        ],\n",
       "         [0.        ],\n",
       "         [0.01568628],\n",
       "         ...,\n",
       "         [0.        ],\n",
       "         [0.01568628],\n",
       "         [0.        ]],\n",
       "\n",
       "        [[0.        ],\n",
       "         [0.        ],\n",
       "         [0.        ],\n",
       "         ...,\n",
       "         [0.00784314],\n",
       "         [0.        ],\n",
       "         [0.        ]],\n",
       "\n",
       "        [[0.        ],\n",
       "         [0.        ],\n",
       "         [0.        ],\n",
       "         ...,\n",
       "         [0.        ],\n",
       "         [0.        ],\n",
       "         [0.        ]]],\n",
       "\n",
       "\n",
       "       [[[0.        ],\n",
       "         [0.        ],\n",
       "         [0.        ],\n",
       "         ...,\n",
       "         [0.        ],\n",
       "         [0.        ],\n",
       "         [0.        ]],\n",
       "\n",
       "        [[0.        ],\n",
       "         [0.        ],\n",
       "         [0.        ],\n",
       "         ...,\n",
       "         [0.        ],\n",
       "         [0.        ],\n",
       "         [0.        ]],\n",
       "\n",
       "        [[0.        ],\n",
       "         [0.        ],\n",
       "         [0.        ],\n",
       "         ...,\n",
       "         [0.        ],\n",
       "         [0.        ],\n",
       "         [0.        ]],\n",
       "\n",
       "        ...,\n",
       "\n",
       "        [[0.        ],\n",
       "         [0.        ],\n",
       "         [0.        ],\n",
       "         ...,\n",
       "         [0.        ],\n",
       "         [0.        ],\n",
       "         [0.        ]],\n",
       "\n",
       "        [[0.        ],\n",
       "         [0.        ],\n",
       "         [0.        ],\n",
       "         ...,\n",
       "         [0.        ],\n",
       "         [0.        ],\n",
       "         [0.        ]],\n",
       "\n",
       "        [[0.        ],\n",
       "         [0.        ],\n",
       "         [0.        ],\n",
       "         ...,\n",
       "         [0.        ],\n",
       "         [0.        ],\n",
       "         [0.        ]]]], dtype=float32)"
      ]
     },
     "execution_count": 14,
     "metadata": {},
     "output_type": "execute_result"
    }
   ],
   "source": [
    "X_test"
   ]
  },
  {
   "cell_type": "code",
   "execution_count": 15,
   "metadata": {},
   "outputs": [
    {
     "data": {
      "text/plain": [
       "(10000, 28, 28, 1)"
      ]
     },
     "execution_count": 15,
     "metadata": {},
     "output_type": "execute_result"
    }
   ],
   "source": [
    "X_test.shape"
   ]
  },
  {
   "cell_type": "code",
   "execution_count": null,
   "metadata": {},
   "outputs": [],
   "source": []
  }
 ],
 "metadata": {
  "colab": {
   "collapsed_sections": [],
   "name": "Capstone - Code.ipynb",
   "provenance": []
  },
  "kernelspec": {
   "display_name": "Python 3",
   "language": "python",
   "name": "python3"
  },
  "language_info": {
   "codemirror_mode": {
    "name": "ipython",
    "version": 3
   },
   "file_extension": ".py",
   "mimetype": "text/x-python",
   "name": "python",
   "nbconvert_exporter": "python",
   "pygments_lexer": "ipython3",
   "version": "3.7.6"
  }
 },
 "nbformat": 4,
 "nbformat_minor": 1
}
